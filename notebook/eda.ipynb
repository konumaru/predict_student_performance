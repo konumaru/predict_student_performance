{
 "cells": [
  {
   "attachments": {},
   "cell_type": "markdown",
   "metadata": {},
   "source": [
    "# EDA\n",
    "\n",
    "\n",
    "## Summary\n",
    "\n",
    "- Preprocessing\n",
    "  - cols_null_all = [\"fullscreen\", \"hq\", \"music\"]\n",
    "- CV Strategy\n",
    "  - GroupKFold\n",
    "    - Group=session_id\n",
    "  - level_groupは極端な偏りがあるわけではなさそうなので調整しない\n",
    "- Feature Engineering\n",
    "  - level_groupで特徴量を分けず、session_idごとにlevel_groupを横断した特徴を作る\n",
    "    - 学習データを分けないことでモデルが横断した特徴を学習させたほうがいい気がする（←edaでなにか確かめられる？）\n"
   ]
  },
  {
   "cell_type": "code",
   "execution_count": 2,
   "metadata": {},
   "outputs": [],
   "source": [
    "import sys\n",
    "\n",
    "sys.path.append(\"../src/\")"
   ]
  },
  {
   "cell_type": "code",
   "execution_count": 3,
   "metadata": {},
   "outputs": [],
   "source": [
    "import pathlib\n",
    "\n",
    "import numpy as np\n",
    "import pandas as pd"
   ]
  },
  {
   "cell_type": "code",
   "execution_count": 4,
   "metadata": {},
   "outputs": [],
   "source": [
    "input_dir = pathlib.Path(\"../data/raw\")\n",
    "\n",
    "train = pd.read_csv(input_dir / \"train.csv\")\n",
    "train_labels = pd.read_csv(input_dir / \"train_labels.csv\")\n",
    "test = pd.read_csv(input_dir / \"test.csv\")\n",
    "sample_submission = pd.read_csv(input_dir / \"sample_submission.csv\")"
   ]
  },
  {
   "cell_type": "code",
   "execution_count": 5,
   "metadata": {},
   "outputs": [
    {
     "name": "stdout",
     "output_type": "stream",
     "text": [
      "\n",
      "\n",
      "=== train ===\n",
      "(13174211, 20)\n"
     ]
    },
    {
     "data": {
      "text/html": [
       "<div>\n",
       "<style scoped>\n",
       "    .dataframe tbody tr th:only-of-type {\n",
       "        vertical-align: middle;\n",
       "    }\n",
       "\n",
       "    .dataframe tbody tr th {\n",
       "        vertical-align: top;\n",
       "    }\n",
       "\n",
       "    .dataframe thead th {\n",
       "        text-align: right;\n",
       "    }\n",
       "</style>\n",
       "<table border=\"1\" class=\"dataframe\">\n",
       "  <thead>\n",
       "    <tr style=\"text-align: right;\">\n",
       "      <th></th>\n",
       "      <th>session_id</th>\n",
       "      <th>index</th>\n",
       "      <th>elapsed_time</th>\n",
       "      <th>event_name</th>\n",
       "      <th>name</th>\n",
       "      <th>level</th>\n",
       "      <th>page</th>\n",
       "      <th>room_coor_x</th>\n",
       "      <th>room_coor_y</th>\n",
       "      <th>screen_coor_x</th>\n",
       "      <th>screen_coor_y</th>\n",
       "      <th>hover_duration</th>\n",
       "      <th>text</th>\n",
       "      <th>fqid</th>\n",
       "      <th>room_fqid</th>\n",
       "      <th>text_fqid</th>\n",
       "      <th>fullscreen</th>\n",
       "      <th>hq</th>\n",
       "      <th>music</th>\n",
       "      <th>level_group</th>\n",
       "    </tr>\n",
       "  </thead>\n",
       "  <tbody>\n",
       "    <tr>\n",
       "      <th>0</th>\n",
       "      <td>20090312431273200</td>\n",
       "      <td>0</td>\n",
       "      <td>0</td>\n",
       "      <td>cutscene_click</td>\n",
       "      <td>basic</td>\n",
       "      <td>0</td>\n",
       "      <td>NaN</td>\n",
       "      <td>-413.991405</td>\n",
       "      <td>-159.314686</td>\n",
       "      <td>380.0</td>\n",
       "      <td>494.0</td>\n",
       "      <td>NaN</td>\n",
       "      <td>undefined</td>\n",
       "      <td>intro</td>\n",
       "      <td>tunic.historicalsociety.closet</td>\n",
       "      <td>tunic.historicalsociety.closet.intro</td>\n",
       "      <td>NaN</td>\n",
       "      <td>NaN</td>\n",
       "      <td>NaN</td>\n",
       "      <td>0-4</td>\n",
       "    </tr>\n",
       "    <tr>\n",
       "      <th>1</th>\n",
       "      <td>20090312431273200</td>\n",
       "      <td>1</td>\n",
       "      <td>1323</td>\n",
       "      <td>person_click</td>\n",
       "      <td>basic</td>\n",
       "      <td>0</td>\n",
       "      <td>NaN</td>\n",
       "      <td>-413.991405</td>\n",
       "      <td>-159.314686</td>\n",
       "      <td>380.0</td>\n",
       "      <td>494.0</td>\n",
       "      <td>NaN</td>\n",
       "      <td>Whatcha doing over there, Jo?</td>\n",
       "      <td>gramps</td>\n",
       "      <td>tunic.historicalsociety.closet</td>\n",
       "      <td>tunic.historicalsociety.closet.gramps.intro_0_...</td>\n",
       "      <td>NaN</td>\n",
       "      <td>NaN</td>\n",
       "      <td>NaN</td>\n",
       "      <td>0-4</td>\n",
       "    </tr>\n",
       "    <tr>\n",
       "      <th>2</th>\n",
       "      <td>20090312431273200</td>\n",
       "      <td>2</td>\n",
       "      <td>831</td>\n",
       "      <td>person_click</td>\n",
       "      <td>basic</td>\n",
       "      <td>0</td>\n",
       "      <td>NaN</td>\n",
       "      <td>-413.991405</td>\n",
       "      <td>-159.314686</td>\n",
       "      <td>380.0</td>\n",
       "      <td>494.0</td>\n",
       "      <td>NaN</td>\n",
       "      <td>Just talking to Teddy.</td>\n",
       "      <td>gramps</td>\n",
       "      <td>tunic.historicalsociety.closet</td>\n",
       "      <td>tunic.historicalsociety.closet.gramps.intro_0_...</td>\n",
       "      <td>NaN</td>\n",
       "      <td>NaN</td>\n",
       "      <td>NaN</td>\n",
       "      <td>0-4</td>\n",
       "    </tr>\n",
       "    <tr>\n",
       "      <th>3</th>\n",
       "      <td>20090312431273200</td>\n",
       "      <td>3</td>\n",
       "      <td>1147</td>\n",
       "      <td>person_click</td>\n",
       "      <td>basic</td>\n",
       "      <td>0</td>\n",
       "      <td>NaN</td>\n",
       "      <td>-413.991405</td>\n",
       "      <td>-159.314686</td>\n",
       "      <td>380.0</td>\n",
       "      <td>494.0</td>\n",
       "      <td>NaN</td>\n",
       "      <td>I gotta run to my meeting!</td>\n",
       "      <td>gramps</td>\n",
       "      <td>tunic.historicalsociety.closet</td>\n",
       "      <td>tunic.historicalsociety.closet.gramps.intro_0_...</td>\n",
       "      <td>NaN</td>\n",
       "      <td>NaN</td>\n",
       "      <td>NaN</td>\n",
       "      <td>0-4</td>\n",
       "    </tr>\n",
       "    <tr>\n",
       "      <th>4</th>\n",
       "      <td>20090312431273200</td>\n",
       "      <td>4</td>\n",
       "      <td>1863</td>\n",
       "      <td>person_click</td>\n",
       "      <td>basic</td>\n",
       "      <td>0</td>\n",
       "      <td>NaN</td>\n",
       "      <td>-412.991405</td>\n",
       "      <td>-159.314686</td>\n",
       "      <td>381.0</td>\n",
       "      <td>494.0</td>\n",
       "      <td>NaN</td>\n",
       "      <td>Can I come, Gramps?</td>\n",
       "      <td>gramps</td>\n",
       "      <td>tunic.historicalsociety.closet</td>\n",
       "      <td>tunic.historicalsociety.closet.gramps.intro_0_...</td>\n",
       "      <td>NaN</td>\n",
       "      <td>NaN</td>\n",
       "      <td>NaN</td>\n",
       "      <td>0-4</td>\n",
       "    </tr>\n",
       "  </tbody>\n",
       "</table>\n",
       "</div>"
      ],
      "text/plain": [
       "          session_id  index  elapsed_time      event_name   name  level  page  \\\n",
       "0  20090312431273200      0             0  cutscene_click  basic      0   NaN   \n",
       "1  20090312431273200      1          1323    person_click  basic      0   NaN   \n",
       "2  20090312431273200      2           831    person_click  basic      0   NaN   \n",
       "3  20090312431273200      3          1147    person_click  basic      0   NaN   \n",
       "4  20090312431273200      4          1863    person_click  basic      0   NaN   \n",
       "\n",
       "   room_coor_x  room_coor_y  screen_coor_x  screen_coor_y  hover_duration  \\\n",
       "0  -413.991405  -159.314686          380.0          494.0             NaN   \n",
       "1  -413.991405  -159.314686          380.0          494.0             NaN   \n",
       "2  -413.991405  -159.314686          380.0          494.0             NaN   \n",
       "3  -413.991405  -159.314686          380.0          494.0             NaN   \n",
       "4  -412.991405  -159.314686          381.0          494.0             NaN   \n",
       "\n",
       "                            text    fqid                       room_fqid  \\\n",
       "0                      undefined   intro  tunic.historicalsociety.closet   \n",
       "1  Whatcha doing over there, Jo?  gramps  tunic.historicalsociety.closet   \n",
       "2         Just talking to Teddy.  gramps  tunic.historicalsociety.closet   \n",
       "3     I gotta run to my meeting!  gramps  tunic.historicalsociety.closet   \n",
       "4            Can I come, Gramps?  gramps  tunic.historicalsociety.closet   \n",
       "\n",
       "                                           text_fqid  fullscreen  hq  music  \\\n",
       "0               tunic.historicalsociety.closet.intro         NaN NaN    NaN   \n",
       "1  tunic.historicalsociety.closet.gramps.intro_0_...         NaN NaN    NaN   \n",
       "2  tunic.historicalsociety.closet.gramps.intro_0_...         NaN NaN    NaN   \n",
       "3  tunic.historicalsociety.closet.gramps.intro_0_...         NaN NaN    NaN   \n",
       "4  tunic.historicalsociety.closet.gramps.intro_0_...         NaN NaN    NaN   \n",
       "\n",
       "  level_group  \n",
       "0         0-4  \n",
       "1         0-4  \n",
       "2         0-4  \n",
       "3         0-4  \n",
       "4         0-4  "
      ]
     },
     "metadata": {},
     "output_type": "display_data"
    },
    {
     "name": "stdout",
     "output_type": "stream",
     "text": [
      "<class 'pandas.core.frame.DataFrame'>\n",
      "RangeIndex: 13174211 entries, 0 to 13174210\n",
      "Data columns (total 20 columns):\n",
      " #   Column          Dtype  \n",
      "---  ------          -----  \n",
      " 0   session_id      int64  \n",
      " 1   index           int64  \n",
      " 2   elapsed_time    int64  \n",
      " 3   event_name      object \n",
      " 4   name            object \n",
      " 5   level           int64  \n",
      " 6   page            float64\n",
      " 7   room_coor_x     float64\n",
      " 8   room_coor_y     float64\n",
      " 9   screen_coor_x   float64\n",
      " 10  screen_coor_y   float64\n",
      " 11  hover_duration  float64\n",
      " 12  text            object \n",
      " 13  fqid            object \n",
      " 14  room_fqid       object \n",
      " 15  text_fqid       object \n",
      " 16  fullscreen      float64\n",
      " 17  hq              float64\n",
      " 18  music           float64\n",
      " 19  level_group     object \n",
      "dtypes: float64(9), int64(4), object(7)\n",
      "memory usage: 2.0+ GB\n",
      "None\n",
      "\n",
      "\n",
      "=== train_labels ===\n",
      "(212022, 2)\n"
     ]
    },
    {
     "data": {
      "text/html": [
       "<div>\n",
       "<style scoped>\n",
       "    .dataframe tbody tr th:only-of-type {\n",
       "        vertical-align: middle;\n",
       "    }\n",
       "\n",
       "    .dataframe tbody tr th {\n",
       "        vertical-align: top;\n",
       "    }\n",
       "\n",
       "    .dataframe thead th {\n",
       "        text-align: right;\n",
       "    }\n",
       "</style>\n",
       "<table border=\"1\" class=\"dataframe\">\n",
       "  <thead>\n",
       "    <tr style=\"text-align: right;\">\n",
       "      <th></th>\n",
       "      <th>session_id</th>\n",
       "      <th>correct</th>\n",
       "    </tr>\n",
       "  </thead>\n",
       "  <tbody>\n",
       "    <tr>\n",
       "      <th>0</th>\n",
       "      <td>20090312431273200_q1</td>\n",
       "      <td>1</td>\n",
       "    </tr>\n",
       "    <tr>\n",
       "      <th>1</th>\n",
       "      <td>20090312433251036_q1</td>\n",
       "      <td>0</td>\n",
       "    </tr>\n",
       "    <tr>\n",
       "      <th>2</th>\n",
       "      <td>20090314121766812_q1</td>\n",
       "      <td>1</td>\n",
       "    </tr>\n",
       "    <tr>\n",
       "      <th>3</th>\n",
       "      <td>20090314363702160_q1</td>\n",
       "      <td>1</td>\n",
       "    </tr>\n",
       "    <tr>\n",
       "      <th>4</th>\n",
       "      <td>20090314441803444_q1</td>\n",
       "      <td>1</td>\n",
       "    </tr>\n",
       "  </tbody>\n",
       "</table>\n",
       "</div>"
      ],
      "text/plain": [
       "             session_id  correct\n",
       "0  20090312431273200_q1        1\n",
       "1  20090312433251036_q1        0\n",
       "2  20090314121766812_q1        1\n",
       "3  20090314363702160_q1        1\n",
       "4  20090314441803444_q1        1"
      ]
     },
     "metadata": {},
     "output_type": "display_data"
    },
    {
     "name": "stdout",
     "output_type": "stream",
     "text": [
      "<class 'pandas.core.frame.DataFrame'>\n",
      "RangeIndex: 212022 entries, 0 to 212021\n",
      "Data columns (total 2 columns):\n",
      " #   Column      Non-Null Count   Dtype \n",
      "---  ------      --------------   ----- \n",
      " 0   session_id  212022 non-null  object\n",
      " 1   correct     212022 non-null  int64 \n",
      "dtypes: int64(1), object(1)\n",
      "memory usage: 3.2+ MB\n",
      "None\n",
      "\n",
      "\n",
      "=== test ===\n",
      "(3728, 21)\n"
     ]
    },
    {
     "data": {
      "text/html": [
       "<div>\n",
       "<style scoped>\n",
       "    .dataframe tbody tr th:only-of-type {\n",
       "        vertical-align: middle;\n",
       "    }\n",
       "\n",
       "    .dataframe tbody tr th {\n",
       "        vertical-align: top;\n",
       "    }\n",
       "\n",
       "    .dataframe thead th {\n",
       "        text-align: right;\n",
       "    }\n",
       "</style>\n",
       "<table border=\"1\" class=\"dataframe\">\n",
       "  <thead>\n",
       "    <tr style=\"text-align: right;\">\n",
       "      <th></th>\n",
       "      <th>session_id</th>\n",
       "      <th>index</th>\n",
       "      <th>elapsed_time</th>\n",
       "      <th>event_name</th>\n",
       "      <th>name</th>\n",
       "      <th>level</th>\n",
       "      <th>page</th>\n",
       "      <th>room_coor_x</th>\n",
       "      <th>room_coor_y</th>\n",
       "      <th>screen_coor_x</th>\n",
       "      <th>...</th>\n",
       "      <th>hover_duration</th>\n",
       "      <th>text</th>\n",
       "      <th>fqid</th>\n",
       "      <th>room_fqid</th>\n",
       "      <th>text_fqid</th>\n",
       "      <th>fullscreen</th>\n",
       "      <th>hq</th>\n",
       "      <th>music</th>\n",
       "      <th>level_group</th>\n",
       "      <th>session_level</th>\n",
       "    </tr>\n",
       "  </thead>\n",
       "  <tbody>\n",
       "    <tr>\n",
       "      <th>0</th>\n",
       "      <td>20090109393214576</td>\n",
       "      <td>0</td>\n",
       "      <td>0</td>\n",
       "      <td>cutscene_click</td>\n",
       "      <td>basic</td>\n",
       "      <td>0</td>\n",
       "      <td>NaN</td>\n",
       "      <td>-413.991405</td>\n",
       "      <td>75.685314</td>\n",
       "      <td>380.0</td>\n",
       "      <td>...</td>\n",
       "      <td>NaN</td>\n",
       "      <td>undefined</td>\n",
       "      <td>intro</td>\n",
       "      <td>tunic.historicalsociety.closet</td>\n",
       "      <td>tunic.historicalsociety.closet.intro</td>\n",
       "      <td>NaN</td>\n",
       "      <td>NaN</td>\n",
       "      <td>NaN</td>\n",
       "      <td>0-4</td>\n",
       "      <td>20090109393214576_0-4</td>\n",
       "    </tr>\n",
       "    <tr>\n",
       "      <th>1</th>\n",
       "      <td>20090109393214576</td>\n",
       "      <td>1</td>\n",
       "      <td>1965</td>\n",
       "      <td>person_click</td>\n",
       "      <td>basic</td>\n",
       "      <td>0</td>\n",
       "      <td>NaN</td>\n",
       "      <td>-105.991405</td>\n",
       "      <td>-63.314686</td>\n",
       "      <td>688.0</td>\n",
       "      <td>...</td>\n",
       "      <td>NaN</td>\n",
       "      <td>Whatcha doing over there, Jo?</td>\n",
       "      <td>gramps</td>\n",
       "      <td>tunic.historicalsociety.closet</td>\n",
       "      <td>tunic.historicalsociety.closet.gramps.intro_0_...</td>\n",
       "      <td>NaN</td>\n",
       "      <td>NaN</td>\n",
       "      <td>NaN</td>\n",
       "      <td>0-4</td>\n",
       "      <td>20090109393214576_0-4</td>\n",
       "    </tr>\n",
       "    <tr>\n",
       "      <th>2</th>\n",
       "      <td>20090109393214576</td>\n",
       "      <td>2</td>\n",
       "      <td>3614</td>\n",
       "      <td>person_click</td>\n",
       "      <td>basic</td>\n",
       "      <td>0</td>\n",
       "      <td>NaN</td>\n",
       "      <td>-418.991405</td>\n",
       "      <td>47.685314</td>\n",
       "      <td>375.0</td>\n",
       "      <td>...</td>\n",
       "      <td>NaN</td>\n",
       "      <td>Just talking to Teddy.</td>\n",
       "      <td>gramps</td>\n",
       "      <td>tunic.historicalsociety.closet</td>\n",
       "      <td>tunic.historicalsociety.closet.gramps.intro_0_...</td>\n",
       "      <td>NaN</td>\n",
       "      <td>NaN</td>\n",
       "      <td>NaN</td>\n",
       "      <td>0-4</td>\n",
       "      <td>20090109393214576_0-4</td>\n",
       "    </tr>\n",
       "    <tr>\n",
       "      <th>3</th>\n",
       "      <td>20090109393214576</td>\n",
       "      <td>3</td>\n",
       "      <td>5330</td>\n",
       "      <td>person_click</td>\n",
       "      <td>basic</td>\n",
       "      <td>0</td>\n",
       "      <td>NaN</td>\n",
       "      <td>-110.991405</td>\n",
       "      <td>-57.314686</td>\n",
       "      <td>683.0</td>\n",
       "      <td>...</td>\n",
       "      <td>NaN</td>\n",
       "      <td>I gotta run to my meeting!</td>\n",
       "      <td>gramps</td>\n",
       "      <td>tunic.historicalsociety.closet</td>\n",
       "      <td>tunic.historicalsociety.closet.gramps.intro_0_...</td>\n",
       "      <td>NaN</td>\n",
       "      <td>NaN</td>\n",
       "      <td>NaN</td>\n",
       "      <td>0-4</td>\n",
       "      <td>20090109393214576_0-4</td>\n",
       "    </tr>\n",
       "    <tr>\n",
       "      <th>4</th>\n",
       "      <td>20090109393214576</td>\n",
       "      <td>4</td>\n",
       "      <td>6397</td>\n",
       "      <td>person_click</td>\n",
       "      <td>basic</td>\n",
       "      <td>0</td>\n",
       "      <td>NaN</td>\n",
       "      <td>-110.991405</td>\n",
       "      <td>-57.314686</td>\n",
       "      <td>683.0</td>\n",
       "      <td>...</td>\n",
       "      <td>NaN</td>\n",
       "      <td>Can I come, Gramps?</td>\n",
       "      <td>gramps</td>\n",
       "      <td>tunic.historicalsociety.closet</td>\n",
       "      <td>tunic.historicalsociety.closet.gramps.intro_0_...</td>\n",
       "      <td>NaN</td>\n",
       "      <td>NaN</td>\n",
       "      <td>NaN</td>\n",
       "      <td>0-4</td>\n",
       "      <td>20090109393214576_0-4</td>\n",
       "    </tr>\n",
       "  </tbody>\n",
       "</table>\n",
       "<p>5 rows × 21 columns</p>\n",
       "</div>"
      ],
      "text/plain": [
       "          session_id  index  elapsed_time      event_name   name  level  page  \\\n",
       "0  20090109393214576      0             0  cutscene_click  basic      0   NaN   \n",
       "1  20090109393214576      1          1965    person_click  basic      0   NaN   \n",
       "2  20090109393214576      2          3614    person_click  basic      0   NaN   \n",
       "3  20090109393214576      3          5330    person_click  basic      0   NaN   \n",
       "4  20090109393214576      4          6397    person_click  basic      0   NaN   \n",
       "\n",
       "   room_coor_x  room_coor_y  screen_coor_x  ...  hover_duration  \\\n",
       "0  -413.991405    75.685314          380.0  ...             NaN   \n",
       "1  -105.991405   -63.314686          688.0  ...             NaN   \n",
       "2  -418.991405    47.685314          375.0  ...             NaN   \n",
       "3  -110.991405   -57.314686          683.0  ...             NaN   \n",
       "4  -110.991405   -57.314686          683.0  ...             NaN   \n",
       "\n",
       "                            text    fqid                       room_fqid  \\\n",
       "0                      undefined   intro  tunic.historicalsociety.closet   \n",
       "1  Whatcha doing over there, Jo?  gramps  tunic.historicalsociety.closet   \n",
       "2         Just talking to Teddy.  gramps  tunic.historicalsociety.closet   \n",
       "3     I gotta run to my meeting!  gramps  tunic.historicalsociety.closet   \n",
       "4            Can I come, Gramps?  gramps  tunic.historicalsociety.closet   \n",
       "\n",
       "                                           text_fqid fullscreen  hq  music  \\\n",
       "0               tunic.historicalsociety.closet.intro        NaN NaN    NaN   \n",
       "1  tunic.historicalsociety.closet.gramps.intro_0_...        NaN NaN    NaN   \n",
       "2  tunic.historicalsociety.closet.gramps.intro_0_...        NaN NaN    NaN   \n",
       "3  tunic.historicalsociety.closet.gramps.intro_0_...        NaN NaN    NaN   \n",
       "4  tunic.historicalsociety.closet.gramps.intro_0_...        NaN NaN    NaN   \n",
       "\n",
       "   level_group          session_level  \n",
       "0          0-4  20090109393214576_0-4  \n",
       "1          0-4  20090109393214576_0-4  \n",
       "2          0-4  20090109393214576_0-4  \n",
       "3          0-4  20090109393214576_0-4  \n",
       "4          0-4  20090109393214576_0-4  \n",
       "\n",
       "[5 rows x 21 columns]"
      ]
     },
     "metadata": {},
     "output_type": "display_data"
    },
    {
     "name": "stdout",
     "output_type": "stream",
     "text": [
      "<class 'pandas.core.frame.DataFrame'>\n",
      "RangeIndex: 3728 entries, 0 to 3727\n",
      "Data columns (total 21 columns):\n",
      " #   Column          Non-Null Count  Dtype  \n",
      "---  ------          --------------  -----  \n",
      " 0   session_id      3728 non-null   int64  \n",
      " 1   index           3728 non-null   int64  \n",
      " 2   elapsed_time    3728 non-null   int64  \n",
      " 3   event_name      3728 non-null   object \n",
      " 4   name            3728 non-null   object \n",
      " 5   level           3728 non-null   int64  \n",
      " 6   page            153 non-null    float64\n",
      " 7   room_coor_x     3366 non-null   float64\n",
      " 8   room_coor_y     3366 non-null   float64\n",
      " 9   screen_coor_x   3366 non-null   float64\n",
      " 10  screen_coor_y   3366 non-null   float64\n",
      " 11  hover_duration  353 non-null    float64\n",
      " 12  text            1162 non-null   object \n",
      " 13  fqid            2505 non-null   object \n",
      " 14  room_fqid       3728 non-null   object \n",
      " 15  text_fqid       1162 non-null   object \n",
      " 16  fullscreen      0 non-null      float64\n",
      " 17  hq              0 non-null      float64\n",
      " 18  music           0 non-null      float64\n",
      " 19  level_group     3728 non-null   object \n",
      " 20  session_level   3728 non-null   object \n",
      "dtypes: float64(9), int64(4), object(8)\n",
      "memory usage: 611.8+ KB\n",
      "None\n",
      "\n",
      "\n",
      "=== sample_submission ===\n",
      "(54, 3)\n"
     ]
    },
    {
     "data": {
      "text/html": [
       "<div>\n",
       "<style scoped>\n",
       "    .dataframe tbody tr th:only-of-type {\n",
       "        vertical-align: middle;\n",
       "    }\n",
       "\n",
       "    .dataframe tbody tr th {\n",
       "        vertical-align: top;\n",
       "    }\n",
       "\n",
       "    .dataframe thead th {\n",
       "        text-align: right;\n",
       "    }\n",
       "</style>\n",
       "<table border=\"1\" class=\"dataframe\">\n",
       "  <thead>\n",
       "    <tr style=\"text-align: right;\">\n",
       "      <th></th>\n",
       "      <th>session_id</th>\n",
       "      <th>correct</th>\n",
       "      <th>session_level</th>\n",
       "    </tr>\n",
       "  </thead>\n",
       "  <tbody>\n",
       "    <tr>\n",
       "      <th>0</th>\n",
       "      <td>20090109393214576_q1</td>\n",
       "      <td>0</td>\n",
       "      <td>20090109393214576_0-4</td>\n",
       "    </tr>\n",
       "    <tr>\n",
       "      <th>1</th>\n",
       "      <td>20090312143683264_q1</td>\n",
       "      <td>0</td>\n",
       "      <td>20090312143683264_0-4</td>\n",
       "    </tr>\n",
       "    <tr>\n",
       "      <th>2</th>\n",
       "      <td>20090312331414616_q1</td>\n",
       "      <td>0</td>\n",
       "      <td>20090312331414616_0-4</td>\n",
       "    </tr>\n",
       "    <tr>\n",
       "      <th>3</th>\n",
       "      <td>20090109393214576_q2</td>\n",
       "      <td>0</td>\n",
       "      <td>20090109393214576_0-4</td>\n",
       "    </tr>\n",
       "    <tr>\n",
       "      <th>4</th>\n",
       "      <td>20090312143683264_q2</td>\n",
       "      <td>0</td>\n",
       "      <td>20090312143683264_0-4</td>\n",
       "    </tr>\n",
       "  </tbody>\n",
       "</table>\n",
       "</div>"
      ],
      "text/plain": [
       "             session_id  correct          session_level\n",
       "0  20090109393214576_q1        0  20090109393214576_0-4\n",
       "1  20090312143683264_q1        0  20090312143683264_0-4\n",
       "2  20090312331414616_q1        0  20090312331414616_0-4\n",
       "3  20090109393214576_q2        0  20090109393214576_0-4\n",
       "4  20090312143683264_q2        0  20090312143683264_0-4"
      ]
     },
     "metadata": {},
     "output_type": "display_data"
    },
    {
     "name": "stdout",
     "output_type": "stream",
     "text": [
      "<class 'pandas.core.frame.DataFrame'>\n",
      "RangeIndex: 54 entries, 0 to 53\n",
      "Data columns (total 3 columns):\n",
      " #   Column         Non-Null Count  Dtype \n",
      "---  ------         --------------  ----- \n",
      " 0   session_id     54 non-null     object\n",
      " 1   correct        54 non-null     int64 \n",
      " 2   session_level  54 non-null     object\n",
      "dtypes: int64(1), object(2)\n",
      "memory usage: 1.4+ KB\n",
      "None\n"
     ]
    }
   ],
   "source": [
    "dfs = {\n",
    "    \"train\": train,\n",
    "    \"train_labels\": train_labels,\n",
    "    \"test\": test,\n",
    "    \"sample_submission\": sample_submission,\n",
    "}\n",
    "\n",
    "\n",
    "for name, df in dfs.items():\n",
    "    print(\"\\n\\n===\", name, \"===\")\n",
    "    print(df.shape)\n",
    "    display(df.head())\n",
    "    print(df.info())"
   ]
  },
  {
   "attachments": {},
   "cell_type": "markdown",
   "metadata": {},
   "source": [
    "### カラムの意味\n",
    "\n",
    "- session_id - イベントが発生したセッションのID\n",
    "- index - セッション内でのイベントのインデックス\n",
    "- elapsed_time - セッションの開始からイベントの記録までに経過した時間（ミリ秒単位）\n",
    "- event_name - イベントの種類の名前\n",
    "- name - イベント名（例えば、ノートブックをクリックしたのが開くか閉じるかを識別する）\n",
    "- level - イベントが発生したゲームのレベル（0から22）\n",
    "- page - イベントのページ番号（ノートブック関連のイベントのみ）\n",
    "- room_coor_x - クリックした場所のゲーム内の部屋に対する座標（クリックイベントのみ）\n",
    "- room_coor_y - クリックした場所のゲーム内の部屋に対する座標（クリックイベントのみ）\n",
    "- screen_coor_x - クリックした場所のプレイヤーの画面に対する座標（クリックイベントのみ）\n",
    "- screen_coor_y - クリックした場所のプレイヤーの画面に対する座標（クリックイベントのみ）\n",
    "- hover_duration - ホバーイベントが発生した時間（ミリ秒単位）（ホバーイベントのみ）\n",
    "- text - プレイヤーがこのイベントで見たテキスト\n",
    "- fqid - イベントの完全修飾ID\n",
    "- room_fqid - イベントが発生した部屋の完全修飾ID\n",
    "- text_fqid - イベントに関連するテキストの完全修飾ID\n",
    "- fullscreen - プレイヤーがフルスクリーンモードかどうか\n",
    "- hq - ゲームが高品質モードかどうか\n",
    "- music - ゲームの音楽がオンかオフか\n",
    "- level_group - この行が属するレベルグループ（および質問グループ）（0-4、5-12、13-22）"
   ]
  },
  {
   "attachments": {},
   "cell_type": "markdown",
   "metadata": {},
   "source": [
    "## Todo memo\n",
    "\n",
    "- カテゴリと数字データは分けて分析したいね\n",
    "  - train, testでカテゴリデータは網羅されていると思ってよい？ない場合はnullで補完する必要がある\n",
    "- 予測対象のユーザはユニーク？\n",
    "- 特徴量はグループごとに作成し、0-4の特徴量でq_id in(0,1,2,3,4)を予測する？"
   ]
  },
  {
   "attachments": {},
   "cell_type": "markdown",
   "metadata": {},
   "source": [
    "## Num Unique session_id"
   ]
  },
  {
   "cell_type": "code",
   "execution_count": 6,
   "metadata": {},
   "outputs": [],
   "source": [
    "train_labels.rename(columns={\"session_id\": \"session_q_id\"}, inplace=True)\n",
    "sample_submission.rename(columns={\"session_id\": \"session_q_id\"}, inplace=True)"
   ]
  },
  {
   "cell_type": "code",
   "execution_count": 7,
   "metadata": {},
   "outputs": [],
   "source": [
    "train[\"session_q_id\"] = train[\"session_id\"].astype(str) + \"_q\" + train[\"level\"].astype(str)\n",
    "test[\"session_q_id\"] = test[\"session_id\"].astype(str) + \"_q\" + test[\"level\"].astype(str)"
   ]
  },
  {
   "cell_type": "code",
   "execution_count": 8,
   "metadata": {},
   "outputs": [],
   "source": [
    "train_labels = train_labels.assign(\n",
    "    level=train_labels[\"session_q_id\"].apply(lambda x: x.split('_')[1][-1]).astype(int),\n",
    "    session_id=train_labels[\"session_q_id\"].apply(lambda x: x.split('_')[0])\n",
    ")\n",
    "sample_submission = sample_submission.assign(\n",
    "    level=sample_submission[\"session_q_id\"].apply(lambda x: x.split('_')[1][-1]).astype(int),\n",
    "    session_id=sample_submission[\"session_q_id\"].apply(lambda x: x.split('_')[0])\n",
    ")"
   ]
  },
  {
   "cell_type": "code",
   "execution_count": 9,
   "metadata": {},
   "outputs": [
    {
     "name": "stdout",
     "output_type": "stream",
     "text": [
      "\n",
      "\n",
      "=== train ===\n",
      "NUnique session id: 11779\n",
      "NUnique session q id: 270626\n",
      "NUnique session q id: [0, 1, 2, 3, 4, 5, 6, 7, 8, 9, 10, 11, 12, 13, 14, 15, 16, 17, 18, 19, 20, 21, 22]\n",
      "\n",
      "\n",
      "=== train_labels ===\n",
      "NUnique session id: 11779\n",
      "NUnique session q id: 212022\n",
      "NUnique session q id: [0, 1, 2, 3, 4, 5, 6, 7, 8, 9]\n",
      "\n",
      "\n",
      "=== test ===\n",
      "NUnique session id: 3\n",
      "NUnique session q id: 69\n",
      "NUnique session q id: [0, 1, 2, 3, 4, 5, 6, 7, 8, 9, 10, 11, 12, 13, 14, 15, 16, 17, 18, 19, 20, 21, 22]\n",
      "\n",
      "\n",
      "=== sample_submission ===\n",
      "NUnique session id: 3\n",
      "NUnique session q id: 54\n",
      "NUnique session q id: [0, 1, 2, 3, 4, 5, 6, 7, 8, 9]\n"
     ]
    }
   ],
   "source": [
    "dfs = {\n",
    "    \"train\": train,\n",
    "    \"train_labels\": train_labels,\n",
    "    \"test\": test,\n",
    "    \"sample_submission\": sample_submission,\n",
    "}\n",
    "\n",
    "for name, df in dfs.items():\n",
    "    print(\"\\n\\n===\", name, \"===\")\n",
    "    print(\"NUnique session id:\", df[\"session_id\"].nunique())\n",
    "    \n",
    "    print(\"NUnique session q id:\", df[\"session_q_id\"].nunique())\n",
    "    print(\"NUnique session q id:\", sorted(df[\"level\"].unique()))"
   ]
  },
  {
   "attachments": {},
   "cell_type": "markdown",
   "metadata": {},
   "source": [
    "## Check for duplicate session_id"
   ]
  },
  {
   "cell_type": "code",
   "execution_count": 10,
   "metadata": {},
   "outputs": [],
   "source": [
    "train_session_ids = set(train[\"session_id\"].unique())\n",
    "test_session_ids = set(test[\"session_id\"].unique())"
   ]
  },
  {
   "cell_type": "code",
   "execution_count": 11,
   "metadata": {},
   "outputs": [
    {
     "name": "stdout",
     "output_type": "stream",
     "text": [
      "Duplicate session ids: 0\n"
     ]
    }
   ],
   "source": [
    "print(\"Duplicate session ids:\", len(train_session_ids) - len(train_session_ids - test_session_ids))"
   ]
  },
  {
   "attachments": {},
   "cell_type": "markdown",
   "metadata": {},
   "source": [
    "重複はないので、評価時もsession_idで排他的にする必要がありそう\n"
   ]
  },
  {
   "attachments": {},
   "cell_type": "markdown",
   "metadata": {},
   "source": [
    "## Demo test timeseries api\n",
    "\n",
    "private lbで評価されるデータ量はtrainと同じくらいの量がある"
   ]
  },
  {
   "cell_type": "code",
   "execution_count": 12,
   "metadata": {},
   "outputs": [
    {
     "name": "stdout",
     "output_type": "stream",
     "text": [
      "NUnique session q id: [0, 1, 2, 3, 4]\n",
      "NUnique session q id: [5, 6, 7, 8, 9, 10, 11, 12]\n",
      "NUnique session q id: [13, 14, 15, 16, 17, 18, 19, 20, 21, 22]\n"
     ]
    }
   ],
   "source": [
    "level_groups = {'0-4':(1,4), '5-12':(4,14), '13-22':(14,19)}\n",
    "\n",
    "for level_group, level_range in level_groups.items():\n",
    "    test_iter = test.query(\"level_group==@level_group\")\n",
    "    print(\"NUnique session q id:\", sorted(test_iter[\"level\"].unique()))"
   ]
  },
  {
   "cell_type": "code",
   "execution_count": 26,
   "metadata": {},
   "outputs": [
    {
     "name": "stdout",
     "output_type": "stream",
     "text": [
      "Train\n",
      "0-4 >>> 11779\n",
      "13-22 >>> 11779\n",
      "5-12 >>> 11779\n",
      "Test\n",
      "0-4 >>> 3\n",
      "13-22 >>> 3\n",
      "5-12 >>> 3\n"
     ]
    }
   ],
   "source": [
    "# NOTE: Unique session ids each level group. \n",
    "for name, df in [(\"Train\", train), (\"Test\", test)]:\n",
    "    print(name)\n",
    "    for lg, gdf in df.groupby(\"level_group\"):\n",
    "        print(lg, \">>>\", gdf[\"session_id\"].nunique())"
   ]
  },
  {
   "attachments": {},
   "cell_type": "markdown",
   "metadata": {},
   "source": [
    "## Null values"
   ]
  },
  {
   "cell_type": "code",
   "execution_count": 13,
   "metadata": {},
   "outputs": [
    {
     "data": {
      "text/plain": [
       "session_id        0.000000\n",
       "index             0.000000\n",
       "elapsed_time      0.000000\n",
       "event_name        0.000000\n",
       "name              0.000000\n",
       "level             0.000000\n",
       "page              0.978386\n",
       "room_coor_x       0.078657\n",
       "room_coor_y       0.078657\n",
       "screen_coor_x     0.078657\n",
       "screen_coor_y     0.078657\n",
       "hover_duration    0.924038\n",
       "text              0.635129\n",
       "fqid              0.315742\n",
       "room_fqid         0.000000\n",
       "text_fqid         0.635125\n",
       "fullscreen        1.000000\n",
       "hq                1.000000\n",
       "music             1.000000\n",
       "level_group       0.000000\n",
       "session_q_id      0.000000\n",
       "dtype: float64"
      ]
     },
     "execution_count": 13,
     "metadata": {},
     "output_type": "execute_result"
    }
   ],
   "source": [
    "train.isnull().mean()"
   ]
  },
  {
   "cell_type": "code",
   "execution_count": 14,
   "metadata": {},
   "outputs": [],
   "source": [
    "# NOTE: 上記より、以下のカラムは全てnull\n",
    "cols_null_all = [\"fullscreen\", \"hq\", \"music\"]"
   ]
  },
  {
   "attachments": {},
   "cell_type": "markdown",
   "metadata": {},
   "source": [
    "## Categorical and numeric"
   ]
  },
  {
   "cell_type": "code",
   "execution_count": 49,
   "metadata": {},
   "outputs": [],
   "source": [
    "cols_cat = [\n",
    "    \"event_name\",\n",
    "    \"name\",\n",
    "    \"text\",\n",
    "    \"fqid\",\n",
    "    \"room_fqid\",\n",
    "    \"room_fqid_0\",\n",
    "    \"room_fqid_1\",\n",
    "    \"room_fqid_2\",\n",
    "    \"text_fqid\",\n",
    "    \"level_group\",\n",
    "]\n",
    "cols_num = [\n",
    "    \"elapsed_time\",\n",
    "    \"level\",\n",
    "    \"page\",\n",
    "    \"room_coor_x\",\n",
    "    \"room_coor_y\",\n",
    "    \"screen_coor_x\",\n",
    "    \"screen_coor_y\",\n",
    "    \"hover_duration\",\n",
    "    \"fullscreen\",\n",
    "    \"hq\",\n",
    "    \"music\",\n",
    "]"
   ]
  },
  {
   "attachments": {},
   "cell_type": "markdown",
   "metadata": {},
   "source": [
    "### Categorical"
   ]
  },
  {
   "cell_type": "code",
   "execution_count": 48,
   "metadata": {},
   "outputs": [],
   "source": [
    "train[[f\"room_fqid_{i}\" for i in range(3)]] = train[\"room_fqid\"].str.split(\".\", expand=True)\n",
    "test[[f\"room_fqid_{i}\" for i in range(3)]] = test[\"room_fqid\"].str.split(\".\", expand=True)"
   ]
  },
  {
   "cell_type": "code",
   "execution_count": 50,
   "metadata": {},
   "outputs": [
    {
     "data": {
      "text/html": [
       "<div>\n",
       "<style scoped>\n",
       "    .dataframe tbody tr th:only-of-type {\n",
       "        vertical-align: middle;\n",
       "    }\n",
       "\n",
       "    .dataframe tbody tr th {\n",
       "        vertical-align: top;\n",
       "    }\n",
       "\n",
       "    .dataframe thead th {\n",
       "        text-align: right;\n",
       "    }\n",
       "</style>\n",
       "<table border=\"1\" class=\"dataframe\">\n",
       "  <thead>\n",
       "    <tr style=\"text-align: right;\">\n",
       "      <th></th>\n",
       "      <th>event_name</th>\n",
       "      <th>name</th>\n",
       "      <th>text</th>\n",
       "      <th>fqid</th>\n",
       "      <th>room_fqid</th>\n",
       "      <th>room_fqid_0</th>\n",
       "      <th>room_fqid_1</th>\n",
       "      <th>room_fqid_2</th>\n",
       "      <th>text_fqid</th>\n",
       "      <th>level_group</th>\n",
       "    </tr>\n",
       "  </thead>\n",
       "  <tbody>\n",
       "    <tr>\n",
       "      <th>count</th>\n",
       "      <td>13174211</td>\n",
       "      <td>13174211</td>\n",
       "      <td>4806891</td>\n",
       "      <td>9014563</td>\n",
       "      <td>13174211</td>\n",
       "      <td>13174211</td>\n",
       "      <td>13174211</td>\n",
       "      <td>13174211</td>\n",
       "      <td>4806945</td>\n",
       "      <td>13174211</td>\n",
       "    </tr>\n",
       "    <tr>\n",
       "      <th>unique</th>\n",
       "      <td>11</td>\n",
       "      <td>6</td>\n",
       "      <td>594</td>\n",
       "      <td>127</td>\n",
       "      <td>19</td>\n",
       "      <td>1</td>\n",
       "      <td>10</td>\n",
       "      <td>13</td>\n",
       "      <td>126</td>\n",
       "      <td>3</td>\n",
       "    </tr>\n",
       "    <tr>\n",
       "      <th>top</th>\n",
       "      <td>navigate_click</td>\n",
       "      <td>undefined</td>\n",
       "      <td>undefined</td>\n",
       "      <td>worker</td>\n",
       "      <td>tunic.historicalsociety.entry</td>\n",
       "      <td>tunic</td>\n",
       "      <td>historicalsociety</td>\n",
       "      <td>frontdesk</td>\n",
       "      <td>tunic.historicalsociety.cage.confrontation</td>\n",
       "      <td>13-22</td>\n",
       "    </tr>\n",
       "    <tr>\n",
       "      <th>freq</th>\n",
       "      <td>5687896</td>\n",
       "      <td>6377305</td>\n",
       "      <td>178294</td>\n",
       "      <td>939555</td>\n",
       "      <td>1816202</td>\n",
       "      <td>13174211</td>\n",
       "      <td>7376226</td>\n",
       "      <td>3202252</td>\n",
       "      <td>333363</td>\n",
       "      <td>6746397</td>\n",
       "    </tr>\n",
       "  </tbody>\n",
       "</table>\n",
       "</div>"
      ],
      "text/plain": [
       "            event_name       name       text     fqid  \\\n",
       "count         13174211   13174211    4806891  9014563   \n",
       "unique              11          6        594      127   \n",
       "top     navigate_click  undefined  undefined   worker   \n",
       "freq           5687896    6377305     178294   939555   \n",
       "\n",
       "                            room_fqid room_fqid_0        room_fqid_1  \\\n",
       "count                        13174211    13174211           13174211   \n",
       "unique                             19           1                 10   \n",
       "top     tunic.historicalsociety.entry       tunic  historicalsociety   \n",
       "freq                          1816202    13174211            7376226   \n",
       "\n",
       "       room_fqid_2                                   text_fqid level_group  \n",
       "count     13174211                                     4806945    13174211  \n",
       "unique          13                                         126           3  \n",
       "top      frontdesk  tunic.historicalsociety.cage.confrontation       13-22  \n",
       "freq       3202252                                      333363     6746397  "
      ]
     },
     "execution_count": 50,
     "metadata": {},
     "output_type": "execute_result"
    }
   ],
   "source": [
    "train[cols_cat].describe(include=\"O\")"
   ]
  },
  {
   "cell_type": "code",
   "execution_count": 51,
   "metadata": {},
   "outputs": [
    {
     "name": "stdout",
     "output_type": "stream",
     "text": [
      "event_name >>>\n"
     ]
    },
    {
     "data": {
      "text/plain": [
       "navigate_click        0.431745\n",
       "person_click          0.229604\n",
       "cutscene_click        0.102604\n",
       "object_click          0.083471\n",
       "object_hover          0.040163\n",
       "map_hover             0.035799\n",
       "notification_click    0.024602\n",
       "notebook_click        0.021614\n",
       "map_click             0.019638\n",
       "observation_click     0.008066\n",
       "Name: event_name, dtype: float64"
      ]
     },
     "metadata": {},
     "output_type": "display_data"
    },
    {
     "data": {
      "text/plain": [
       "checkpoint            0.002695\n",
       "observation_click     0.008066\n",
       "map_click             0.019638\n",
       "notebook_click        0.021614\n",
       "notification_click    0.024602\n",
       "map_hover             0.035799\n",
       "object_hover          0.040163\n",
       "object_click          0.083471\n",
       "cutscene_click        0.102604\n",
       "person_click          0.229604\n",
       "Name: event_name, dtype: float64"
      ]
     },
     "metadata": {},
     "output_type": "display_data"
    },
    {
     "name": "stdout",
     "output_type": "stream",
     "text": [
      "name >>>\n"
     ]
    },
    {
     "data": {
      "text/plain": [
       "undefined    0.484075\n",
       "basic        0.480030\n",
       "close        0.025739\n",
       "open         0.008966\n",
       "prev         0.000746\n",
       "next         0.000443\n",
       "Name: name, dtype: float64"
      ]
     },
     "metadata": {},
     "output_type": "display_data"
    },
    {
     "data": {
      "text/plain": [
       "next         0.000443\n",
       "prev         0.000746\n",
       "open         0.008966\n",
       "close        0.025739\n",
       "basic        0.480030\n",
       "undefined    0.484075\n",
       "Name: name, dtype: float64"
      ]
     },
     "metadata": {},
     "output_type": "display_data"
    },
    {
     "name": "stdout",
     "output_type": "stream",
     "text": [
      "text >>>\n"
     ]
    },
    {
     "data": {
      "text/plain": [
       "undefined                                                    0.037091\n",
       "\\u00f0\\u0178\\u02dc\\u0090                                     0.005073\n",
       "Hey!                                                         0.004935\n",
       "I should go to the Capitol and tell Mrs. M!                  0.004176\n",
       "This is perfect for the exhibit.                             0.004158\n",
       "Look at all those activists!                                 0.004158\n",
       "If I were you, I'd go to the library and do some digging.    0.004052\n",
       "Ugh. Fine.                                                   0.003743\n",
       "\\u00f0\\u0178\\u02dc\\u00b4                                     0.003709\n",
       "You can talk to a textile expert there.                      0.003668\n",
       "Name: text, dtype: float64"
      ]
     },
     "metadata": {},
     "output_type": "display_data"
    },
    {
     "data": {
      "text/plain": [
       "Meet me back in my office and we'll get started!    2.080347e-07\n",
       "Sounds good, Boss.                                  2.080347e-07\n",
       "Why don't you prove your case?                      2.080347e-07\n",
       "It'll be okay, Jo. We'll find Teddy!                2.080347e-07\n",
       "Nice work on the shirt, Jolie!                      2.080347e-07\n",
       "Leopold, can you run back to the museum?            2.080347e-07\n",
       "Come on, Jo!                                        2.080347e-07\n",
       "Jo, meet me back at my office.                      2.080347e-07\n",
       "I hope you find your badger, kid.                   2.080347e-07\n",
       "Thanks!                                             2.080347e-07\n",
       "Name: text, dtype: float64"
      ]
     },
     "metadata": {},
     "output_type": "display_data"
    },
    {
     "name": "stdout",
     "output_type": "stream",
     "text": [
      "fqid >>>\n"
     ]
    },
    {
     "data": {
      "text/plain": [
       "worker           0.104226\n",
       "archivist        0.062483\n",
       "gramps           0.062233\n",
       "wells            0.043733\n",
       "toentry          0.043510\n",
       "confrontation    0.038684\n",
       "crane_ranger     0.027948\n",
       "groupconvo       0.025279\n",
       "flag_girl        0.024933\n",
       "tomap            0.022428\n",
       "Name: fqid, dtype: float64"
      ]
     },
     "metadata": {},
     "output_type": "display_data"
    },
    {
     "data": {
      "text/plain": [
       "block_1                         0.000003\n",
       "fox                             0.000018\n",
       "block_badge_2                   0.000056\n",
       "need_glasses                    0.000075\n",
       "block_badge                     0.000095\n",
       "block_tomap1                    0.000098\n",
       "journals_flag.pic_2_old.next    0.000110\n",
       "block_nelson                    0.000122\n",
       "block_tocollection              0.000122\n",
       "journals_flag.pic_1_old.next    0.000142\n",
       "Name: fqid, dtype: float64"
      ]
     },
     "metadata": {},
     "output_type": "display_data"
    },
    {
     "name": "stdout",
     "output_type": "stream",
     "text": [
      "room_fqid >>>\n"
     ]
    },
    {
     "data": {
      "text/plain": [
       "tunic.historicalsociety.entry           0.137860\n",
       "tunic.wildlife.center                   0.114685\n",
       "tunic.historicalsociety.cage            0.089447\n",
       "tunic.library.frontdesk                 0.081623\n",
       "tunic.historicalsociety.frontdesk       0.073798\n",
       "tunic.historicalsociety.stacks          0.068366\n",
       "tunic.historicalsociety.closet_dirty    0.059821\n",
       "tunic.humanecology.frontdesk            0.050299\n",
       "tunic.historicalsociety.basement        0.044409\n",
       "tunic.kohlcenter.halloffame             0.041580\n",
       "Name: room_fqid, dtype: float64"
      ]
     },
     "metadata": {},
     "output_type": "display_data"
    },
    {
     "data": {
      "text/plain": [
       "tunic.capitol_2.hall                       0.012295\n",
       "tunic.capitol_0.hall                       0.015839\n",
       "tunic.capitol_1.hall                       0.016987\n",
       "tunic.historicalsociety.collection_flag    0.017232\n",
       "tunic.flaghouse.entry                      0.031648\n",
       "tunic.historicalsociety.closet             0.032628\n",
       "tunic.historicalsociety.collection         0.036336\n",
       "tunic.drycleaner.frontdesk                 0.037349\n",
       "tunic.library.microfiche                   0.037795\n",
       "tunic.kohlcenter.halloffame                0.041580\n",
       "Name: room_fqid, dtype: float64"
      ]
     },
     "metadata": {},
     "output_type": "display_data"
    },
    {
     "name": "stdout",
     "output_type": "stream",
     "text": [
      "room_fqid_0 >>>\n"
     ]
    },
    {
     "data": {
      "text/plain": [
       "tunic    1.0\n",
       "Name: room_fqid_0, dtype: float64"
      ]
     },
     "metadata": {},
     "output_type": "display_data"
    },
    {
     "data": {
      "text/plain": [
       "tunic    1.0\n",
       "Name: room_fqid_0, dtype: float64"
      ]
     },
     "metadata": {},
     "output_type": "display_data"
    },
    {
     "name": "stdout",
     "output_type": "stream",
     "text": [
      "room_fqid_1 >>>\n"
     ]
    },
    {
     "data": {
      "text/plain": [
       "historicalsociety    0.559899\n",
       "library              0.119419\n",
       "wildlife             0.114685\n",
       "humanecology         0.050299\n",
       "kohlcenter           0.041580\n",
       "drycleaner           0.037349\n",
       "flaghouse            0.031648\n",
       "capitol_1            0.016987\n",
       "capitol_0            0.015839\n",
       "capitol_2            0.012295\n",
       "Name: room_fqid_1, dtype: float64"
      ]
     },
     "metadata": {},
     "output_type": "display_data"
    },
    {
     "data": {
      "text/plain": [
       "capitol_2            0.012295\n",
       "capitol_0            0.015839\n",
       "capitol_1            0.016987\n",
       "flaghouse            0.031648\n",
       "drycleaner           0.037349\n",
       "kohlcenter           0.041580\n",
       "humanecology         0.050299\n",
       "wildlife             0.114685\n",
       "library              0.119419\n",
       "historicalsociety    0.559899\n",
       "Name: room_fqid_1, dtype: float64"
      ]
     },
     "metadata": {},
     "output_type": "display_data"
    },
    {
     "name": "stdout",
     "output_type": "stream",
     "text": [
      "room_fqid_2 >>>\n"
     ]
    },
    {
     "data": {
      "text/plain": [
       "frontdesk       0.243070\n",
       "entry           0.169509\n",
       "center          0.114685\n",
       "cage            0.089447\n",
       "stacks          0.068366\n",
       "closet_dirty    0.059821\n",
       "hall            0.045121\n",
       "basement        0.044409\n",
       "halloffame      0.041580\n",
       "microfiche      0.037795\n",
       "Name: room_fqid_2, dtype: float64"
      ]
     },
     "metadata": {},
     "output_type": "display_data"
    },
    {
     "data": {
      "text/plain": [
       "collection_flag    0.017232\n",
       "closet             0.032628\n",
       "collection         0.036336\n",
       "microfiche         0.037795\n",
       "halloffame         0.041580\n",
       "basement           0.044409\n",
       "hall               0.045121\n",
       "closet_dirty       0.059821\n",
       "stacks             0.068366\n",
       "cage               0.089447\n",
       "Name: room_fqid_2, dtype: float64"
      ]
     },
     "metadata": {},
     "output_type": "display_data"
    },
    {
     "name": "stdout",
     "output_type": "stream",
     "text": [
      "text_fqid >>>\n"
     ]
    },
    {
     "data": {
      "text/plain": [
       "tunic.historicalsociety.cage.confrontation                           0.069350\n",
       "tunic.wildlife.center.crane_ranger.crane                             0.048964\n",
       "tunic.historicalsociety.frontdesk.archivist.newspaper                0.044651\n",
       "tunic.historicalsociety.entry.groupconvo                             0.044434\n",
       "tunic.wildlife.center.wells.nodeer                                   0.041602\n",
       "tunic.historicalsociety.frontdesk.archivist.have_glass               0.041034\n",
       "tunic.drycleaner.frontdesk.worker.hub                                0.037710\n",
       "tunic.historicalsociety.closet_dirty.gramps.news                     0.034759\n",
       "tunic.humanecology.frontdesk.worker.intro                            0.031173\n",
       "tunic.historicalsociety.frontdesk.archivist_glasses.confrontation    0.027383\n",
       "Name: text_fqid, dtype: float64"
      ]
     },
     "metadata": {},
     "output_type": "display_data"
    },
    {
     "data": {
      "text/plain": [
       "tunic.drycleaner.frontdesk.block_1          6.240970e-07\n",
       "tunic.humanecology.frontdesk.block_1        1.664259e-06\n",
       "tunic.historicalsociety.entry.gramps.hub    4.368679e-06\n",
       "tunic.drycleaner.frontdesk.block_0          2.205143e-05\n",
       "tunic.wildlife.center.fox.concern           2.309159e-05\n",
       "tunic.capitol_2.hall.chap4_finale_c         3.390927e-05\n",
       "tunic.capitol_1.hall.chap2_finale_c         3.682172e-05\n",
       "tunic.capitol_0.hall.chap1_finale_c         5.117595e-05\n",
       "tunic.kohlcenter.halloffame.block_0         5.138399e-05\n",
       "tunic.library.frontdesk.block_badge_2       5.159202e-05\n",
       "Name: text_fqid, dtype: float64"
      ]
     },
     "metadata": {},
     "output_type": "display_data"
    },
    {
     "name": "stdout",
     "output_type": "stream",
     "text": [
      "level_group >>>\n"
     ]
    },
    {
     "data": {
      "text/plain": [
       "13-22    0.512091\n",
       "5-12     0.336500\n",
       "0-4      0.151408\n",
       "Name: level_group, dtype: float64"
      ]
     },
     "metadata": {},
     "output_type": "display_data"
    },
    {
     "data": {
      "text/plain": [
       "0-4      0.151408\n",
       "5-12     0.336500\n",
       "13-22    0.512091\n",
       "Name: level_group, dtype: float64"
      ]
     },
     "metadata": {},
     "output_type": "display_data"
    }
   ],
   "source": [
    "for c in cols_cat:\n",
    "    print(c, \">>>\")\n",
    "    display(train[c].value_counts(normalize=True).sort_values(ascending=False).head(10))\n",
    "    display(train[c].value_counts(normalize=True).sort_values(ascending=True).head(10))"
   ]
  },
  {
   "attachments": {},
   "cell_type": "markdown",
   "metadata": {},
   "source": [
    "- event_name\n",
    "  - 数も多すぎず、特徴量になりそう\n",
    "- name\n",
    "  - 同じく特徴量になりそう\n",
    "- text\n",
    "  - event_nameに対する付加情報になりうるが、前処理のコストが高そう\n",
    "- fqid\n",
    "  - ちょっとよくわからんが2%以下はothersとして、カテゴリ変数として使うのがよさそう\n",
    "- room_fqid\n",
    "  - ３つの要素に分割してカテゴリ変数にする\n",
    "- text_fqid\n",
    "  - 内容が複雑っぽい\n",
    "  - text同様に前処理のコストが高いかも？\n",
    "- level_qid\n",
    "  - 特徴量に入れる？\n",
    "  - もしかしたらモデルを分けたほうが予測速度が早い？"
   ]
  },
  {
   "attachments": {},
   "cell_type": "markdown",
   "metadata": {},
   "source": [
    "### Numeric\n",
    "\n",
    "\n",
    "- elapsed_time\n",
    "  - 一番重要な特徴量になりそう\n",
    "- level\n",
    "  - 重要そう\n",
    "- page\n",
    "  - null rateが高いのでdrop\n",
    "- room, screen_xy\n",
    "  - これはそのまま特徴量にしてみる"
   ]
  },
  {
   "cell_type": "code",
   "execution_count": 18,
   "metadata": {},
   "outputs": [
    {
     "data": {
      "text/html": [
       "<div>\n",
       "<style scoped>\n",
       "    .dataframe tbody tr th:only-of-type {\n",
       "        vertical-align: middle;\n",
       "    }\n",
       "\n",
       "    .dataframe tbody tr th {\n",
       "        vertical-align: top;\n",
       "    }\n",
       "\n",
       "    .dataframe thead th {\n",
       "        text-align: right;\n",
       "    }\n",
       "</style>\n",
       "<table border=\"1\" class=\"dataframe\">\n",
       "  <thead>\n",
       "    <tr style=\"text-align: right;\">\n",
       "      <th></th>\n",
       "      <th>elapsed_time</th>\n",
       "      <th>level</th>\n",
       "      <th>page</th>\n",
       "      <th>room_coor_x</th>\n",
       "      <th>room_coor_y</th>\n",
       "      <th>screen_coor_x</th>\n",
       "      <th>screen_coor_y</th>\n",
       "      <th>hover_duration</th>\n",
       "      <th>fullscreen</th>\n",
       "      <th>hq</th>\n",
       "      <th>music</th>\n",
       "    </tr>\n",
       "  </thead>\n",
       "  <tbody>\n",
       "    <tr>\n",
       "      <th>count</th>\n",
       "      <td>1.317421e+07</td>\n",
       "      <td>1.317421e+07</td>\n",
       "      <td>284746.000000</td>\n",
       "      <td>1.213797e+07</td>\n",
       "      <td>1.213797e+07</td>\n",
       "      <td>1.213797e+07</td>\n",
       "      <td>1.213797e+07</td>\n",
       "      <td>1.000737e+06</td>\n",
       "      <td>0.0</td>\n",
       "      <td>0.0</td>\n",
       "      <td>0.0</td>\n",
       "    </tr>\n",
       "    <tr>\n",
       "      <th>mean</th>\n",
       "      <td>3.846817e+06</td>\n",
       "      <td>1.219194e+01</td>\n",
       "      <td>3.157930</td>\n",
       "      <td>-5.493615e+01</td>\n",
       "      <td>-1.162997e+02</td>\n",
       "      <td>4.581144e+02</td>\n",
       "      <td>3.852363e+02</td>\n",
       "      <td>3.186237e+03</td>\n",
       "      <td>NaN</td>\n",
       "      <td>NaN</td>\n",
       "      <td>NaN</td>\n",
       "    </tr>\n",
       "    <tr>\n",
       "      <th>std</th>\n",
       "      <td>2.701387e+07</td>\n",
       "      <td>6.499188e+00</td>\n",
       "      <td>2.064042</td>\n",
       "      <td>5.201468e+02</td>\n",
       "      <td>2.185912e+02</td>\n",
       "      <td>2.472144e+02</td>\n",
       "      <td>1.292879e+02</td>\n",
       "      <td>3.692265e+05</td>\n",
       "      <td>NaN</td>\n",
       "      <td>NaN</td>\n",
       "      <td>NaN</td>\n",
       "    </tr>\n",
       "    <tr>\n",
       "      <th>min</th>\n",
       "      <td>0.000000e+00</td>\n",
       "      <td>0.000000e+00</td>\n",
       "      <td>0.000000</td>\n",
       "      <td>-1.992355e+03</td>\n",
       "      <td>-9.181587e+02</td>\n",
       "      <td>0.000000e+00</td>\n",
       "      <td>0.000000e+00</td>\n",
       "      <td>0.000000e+00</td>\n",
       "      <td>NaN</td>\n",
       "      <td>NaN</td>\n",
       "      <td>NaN</td>\n",
       "    </tr>\n",
       "    <tr>\n",
       "      <th>25%</th>\n",
       "      <td>4.394300e+05</td>\n",
       "      <td>6.000000e+00</td>\n",
       "      <td>1.000000</td>\n",
       "      <td>-3.529376e+02</td>\n",
       "      <td>-2.128361e+02</td>\n",
       "      <td>2.690000e+02</td>\n",
       "      <td>3.040000e+02</td>\n",
       "      <td>1.000000e+02</td>\n",
       "      <td>NaN</td>\n",
       "      <td>NaN</td>\n",
       "      <td>NaN</td>\n",
       "    </tr>\n",
       "    <tr>\n",
       "      <th>50%</th>\n",
       "      <td>1.013425e+06</td>\n",
       "      <td>1.300000e+01</td>\n",
       "      <td>3.000000</td>\n",
       "      <td>-1.116317e+01</td>\n",
       "      <td>-9.778151e+01</td>\n",
       "      <td>4.470000e+02</td>\n",
       "      <td>3.970000e+02</td>\n",
       "      <td>4.180000e+02</td>\n",
       "      <td>NaN</td>\n",
       "      <td>NaN</td>\n",
       "      <td>NaN</td>\n",
       "    </tr>\n",
       "    <tr>\n",
       "      <th>75%</th>\n",
       "      <td>1.740050e+06</td>\n",
       "      <td>1.800000e+01</td>\n",
       "      <td>5.000000</td>\n",
       "      <td>2.963618e+02</td>\n",
       "      <td>2.268531e+01</td>\n",
       "      <td>6.630000e+02</td>\n",
       "      <td>4.710000e+02</td>\n",
       "      <td>1.266000e+03</td>\n",
       "      <td>NaN</td>\n",
       "      <td>NaN</td>\n",
       "      <td>NaN</td>\n",
       "    </tr>\n",
       "    <tr>\n",
       "      <th>max</th>\n",
       "      <td>1.749293e+09</td>\n",
       "      <td>2.200000e+01</td>\n",
       "      <td>6.000000</td>\n",
       "      <td>1.261774e+03</td>\n",
       "      <td>5.436164e+02</td>\n",
       "      <td>1.916000e+03</td>\n",
       "      <td>1.439000e+03</td>\n",
       "      <td>2.199078e+08</td>\n",
       "      <td>NaN</td>\n",
       "      <td>NaN</td>\n",
       "      <td>NaN</td>\n",
       "    </tr>\n",
       "  </tbody>\n",
       "</table>\n",
       "</div>"
      ],
      "text/plain": [
       "       elapsed_time         level           page   room_coor_x   room_coor_y  \\\n",
       "count  1.317421e+07  1.317421e+07  284746.000000  1.213797e+07  1.213797e+07   \n",
       "mean   3.846817e+06  1.219194e+01       3.157930 -5.493615e+01 -1.162997e+02   \n",
       "std    2.701387e+07  6.499188e+00       2.064042  5.201468e+02  2.185912e+02   \n",
       "min    0.000000e+00  0.000000e+00       0.000000 -1.992355e+03 -9.181587e+02   \n",
       "25%    4.394300e+05  6.000000e+00       1.000000 -3.529376e+02 -2.128361e+02   \n",
       "50%    1.013425e+06  1.300000e+01       3.000000 -1.116317e+01 -9.778151e+01   \n",
       "75%    1.740050e+06  1.800000e+01       5.000000  2.963618e+02  2.268531e+01   \n",
       "max    1.749293e+09  2.200000e+01       6.000000  1.261774e+03  5.436164e+02   \n",
       "\n",
       "       screen_coor_x  screen_coor_y  hover_duration  fullscreen   hq  music  \n",
       "count   1.213797e+07   1.213797e+07    1.000737e+06         0.0  0.0    0.0  \n",
       "mean    4.581144e+02   3.852363e+02    3.186237e+03         NaN  NaN    NaN  \n",
       "std     2.472144e+02   1.292879e+02    3.692265e+05         NaN  NaN    NaN  \n",
       "min     0.000000e+00   0.000000e+00    0.000000e+00         NaN  NaN    NaN  \n",
       "25%     2.690000e+02   3.040000e+02    1.000000e+02         NaN  NaN    NaN  \n",
       "50%     4.470000e+02   3.970000e+02    4.180000e+02         NaN  NaN    NaN  \n",
       "75%     6.630000e+02   4.710000e+02    1.266000e+03         NaN  NaN    NaN  \n",
       "max     1.916000e+03   1.439000e+03    2.199078e+08         NaN  NaN    NaN  "
      ]
     },
     "execution_count": 18,
     "metadata": {},
     "output_type": "execute_result"
    }
   ],
   "source": [
    "train[cols_num].describe(include=\"number\")"
   ]
  },
  {
   "cell_type": "code",
   "execution_count": 54,
   "metadata": {},
   "outputs": [
    {
     "data": {
      "text/plain": [
       "elapsed_time      0.000000\n",
       "level             0.000000\n",
       "page              0.978386\n",
       "room_coor_x       0.078657\n",
       "room_coor_y       0.078657\n",
       "screen_coor_x     0.078657\n",
       "screen_coor_y     0.078657\n",
       "hover_duration    0.924038\n",
       "fullscreen        1.000000\n",
       "hq                1.000000\n",
       "music             1.000000\n",
       "dtype: float64"
      ]
     },
     "execution_count": 54,
     "metadata": {},
     "output_type": "execute_result"
    }
   ],
   "source": [
    "train[cols_num].isnull().mean()"
   ]
  },
  {
   "cell_type": "code",
   "execution_count": null,
   "metadata": {},
   "outputs": [],
   "source": []
  }
 ],
 "metadata": {
  "kernelspec": {
   "display_name": "base",
   "language": "python",
   "name": "python3"
  },
  "language_info": {
   "codemirror_mode": {
    "name": "ipython",
    "version": 3
   },
   "file_extension": ".py",
   "mimetype": "text/x-python",
   "name": "python",
   "nbconvert_exporter": "python",
   "pygments_lexer": "ipython3",
   "version": "3.7.12"
  },
  "orig_nbformat": 4
 },
 "nbformat": 4,
 "nbformat_minor": 2
}

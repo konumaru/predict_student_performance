{
 "cells": [
  {
   "attachments": {},
   "cell_type": "markdown",
   "metadata": {},
   "source": [
    "# EDA\n",
    "\n",
    "\n",
    "## Summary\n",
    "\n",
    "- Preprocessing\n",
    "  - cols_null_all = [\"fullscreen\", \"hq\", \"music\"]\n",
    "- CV Strategy\n",
    "  - GroupKFold\n",
    "    - Group=session_id\n",
    "  - level_groupは極端な偏りがあるわけではなさそうなので調整しない\n",
    "- Feature Engineering\n",
    "  - level_groupで特徴量を分けず、session_idごとにlevel_groupを横断した特徴を作る\n",
    "    - 学習データを分けないことでモデルが横断した特徴を学習させたほうがいい気がする（←edaでなにか確かめられる？）\n"
   ]
  },
  {
   "cell_type": "code",
   "execution_count": 1,
   "metadata": {},
   "outputs": [],
   "source": [
    "import sys\n",
    "\n",
    "sys.path.append(\"../src/\")"
   ]
  },
  {
   "cell_type": "code",
   "execution_count": 2,
   "metadata": {},
   "outputs": [],
   "source": [
    "import pathlib\n",
    "\n",
    "import numpy as np\n",
    "import pandas as pd\n",
    "import matplotlib.pyplot as plt\n",
    "\n",
    "%matplotlib inline"
   ]
  },
  {
   "cell_type": "code",
   "execution_count": 3,
   "metadata": {},
   "outputs": [],
   "source": [
    "input_dir = pathlib.Path(\"../data/raw\")\n",
    "\n",
    "train = pd.read_csv(input_dir / \"train.csv\")\n",
    "train_labels = pd.read_csv(input_dir / \"train_labels.csv\")\n",
    "test = pd.read_csv(input_dir / \"test.csv\")\n",
    "sample_submission = pd.read_csv(input_dir / \"sample_submission.csv\")"
   ]
  },
  {
   "cell_type": "code",
   "execution_count": 6,
   "metadata": {},
   "outputs": [
    {
     "name": "stdout",
     "output_type": "stream",
     "text": [
      "\n",
      "\n",
      "=== train ===\n",
      "(26296946, 20)\n"
     ]
    },
    {
     "data": {
      "text/html": [
       "<div>\n",
       "<style scoped>\n",
       "    .dataframe tbody tr th:only-of-type {\n",
       "        vertical-align: middle;\n",
       "    }\n",
       "\n",
       "    .dataframe tbody tr th {\n",
       "        vertical-align: top;\n",
       "    }\n",
       "\n",
       "    .dataframe thead th {\n",
       "        text-align: right;\n",
       "    }\n",
       "</style>\n",
       "<table border=\"1\" class=\"dataframe\">\n",
       "  <thead>\n",
       "    <tr style=\"text-align: right;\">\n",
       "      <th></th>\n",
       "      <th>session_id</th>\n",
       "      <th>index</th>\n",
       "      <th>elapsed_time</th>\n",
       "      <th>event_name</th>\n",
       "      <th>name</th>\n",
       "      <th>level</th>\n",
       "      <th>page</th>\n",
       "      <th>room_coor_x</th>\n",
       "      <th>room_coor_y</th>\n",
       "      <th>screen_coor_x</th>\n",
       "      <th>screen_coor_y</th>\n",
       "      <th>hover_duration</th>\n",
       "      <th>text</th>\n",
       "      <th>fqid</th>\n",
       "      <th>room_fqid</th>\n",
       "      <th>text_fqid</th>\n",
       "      <th>fullscreen</th>\n",
       "      <th>hq</th>\n",
       "      <th>music</th>\n",
       "      <th>level_group</th>\n",
       "    </tr>\n",
       "  </thead>\n",
       "  <tbody>\n",
       "    <tr>\n",
       "      <th>0</th>\n",
       "      <td>20090312431273200</td>\n",
       "      <td>0</td>\n",
       "      <td>0</td>\n",
       "      <td>cutscene_click</td>\n",
       "      <td>basic</td>\n",
       "      <td>0</td>\n",
       "      <td>NaN</td>\n",
       "      <td>-413.991405</td>\n",
       "      <td>-159.314686</td>\n",
       "      <td>380.0</td>\n",
       "      <td>494.0</td>\n",
       "      <td>NaN</td>\n",
       "      <td>undefined</td>\n",
       "      <td>intro</td>\n",
       "      <td>tunic.historicalsociety.closet</td>\n",
       "      <td>tunic.historicalsociety.closet.intro</td>\n",
       "      <td>0</td>\n",
       "      <td>0</td>\n",
       "      <td>1</td>\n",
       "      <td>0-4</td>\n",
       "    </tr>\n",
       "    <tr>\n",
       "      <th>1</th>\n",
       "      <td>20090312431273200</td>\n",
       "      <td>1</td>\n",
       "      <td>1323</td>\n",
       "      <td>person_click</td>\n",
       "      <td>basic</td>\n",
       "      <td>0</td>\n",
       "      <td>NaN</td>\n",
       "      <td>-413.991405</td>\n",
       "      <td>-159.314686</td>\n",
       "      <td>380.0</td>\n",
       "      <td>494.0</td>\n",
       "      <td>NaN</td>\n",
       "      <td>Whatcha doing over there, Jo?</td>\n",
       "      <td>gramps</td>\n",
       "      <td>tunic.historicalsociety.closet</td>\n",
       "      <td>tunic.historicalsociety.closet.gramps.intro_0_...</td>\n",
       "      <td>0</td>\n",
       "      <td>0</td>\n",
       "      <td>1</td>\n",
       "      <td>0-4</td>\n",
       "    </tr>\n",
       "    <tr>\n",
       "      <th>2</th>\n",
       "      <td>20090312431273200</td>\n",
       "      <td>2</td>\n",
       "      <td>831</td>\n",
       "      <td>person_click</td>\n",
       "      <td>basic</td>\n",
       "      <td>0</td>\n",
       "      <td>NaN</td>\n",
       "      <td>-413.991405</td>\n",
       "      <td>-159.314686</td>\n",
       "      <td>380.0</td>\n",
       "      <td>494.0</td>\n",
       "      <td>NaN</td>\n",
       "      <td>Just talking to Teddy.</td>\n",
       "      <td>gramps</td>\n",
       "      <td>tunic.historicalsociety.closet</td>\n",
       "      <td>tunic.historicalsociety.closet.gramps.intro_0_...</td>\n",
       "      <td>0</td>\n",
       "      <td>0</td>\n",
       "      <td>1</td>\n",
       "      <td>0-4</td>\n",
       "    </tr>\n",
       "    <tr>\n",
       "      <th>3</th>\n",
       "      <td>20090312431273200</td>\n",
       "      <td>3</td>\n",
       "      <td>1147</td>\n",
       "      <td>person_click</td>\n",
       "      <td>basic</td>\n",
       "      <td>0</td>\n",
       "      <td>NaN</td>\n",
       "      <td>-413.991405</td>\n",
       "      <td>-159.314686</td>\n",
       "      <td>380.0</td>\n",
       "      <td>494.0</td>\n",
       "      <td>NaN</td>\n",
       "      <td>I gotta run to my meeting!</td>\n",
       "      <td>gramps</td>\n",
       "      <td>tunic.historicalsociety.closet</td>\n",
       "      <td>tunic.historicalsociety.closet.gramps.intro_0_...</td>\n",
       "      <td>0</td>\n",
       "      <td>0</td>\n",
       "      <td>1</td>\n",
       "      <td>0-4</td>\n",
       "    </tr>\n",
       "    <tr>\n",
       "      <th>4</th>\n",
       "      <td>20090312431273200</td>\n",
       "      <td>4</td>\n",
       "      <td>1863</td>\n",
       "      <td>person_click</td>\n",
       "      <td>basic</td>\n",
       "      <td>0</td>\n",
       "      <td>NaN</td>\n",
       "      <td>-412.991405</td>\n",
       "      <td>-159.314686</td>\n",
       "      <td>381.0</td>\n",
       "      <td>494.0</td>\n",
       "      <td>NaN</td>\n",
       "      <td>Can I come, Gramps?</td>\n",
       "      <td>gramps</td>\n",
       "      <td>tunic.historicalsociety.closet</td>\n",
       "      <td>tunic.historicalsociety.closet.gramps.intro_0_...</td>\n",
       "      <td>0</td>\n",
       "      <td>0</td>\n",
       "      <td>1</td>\n",
       "      <td>0-4</td>\n",
       "    </tr>\n",
       "  </tbody>\n",
       "</table>\n",
       "</div>"
      ],
      "text/plain": [
       "          session_id  index  elapsed_time      event_name   name  level  page  \\\n",
       "0  20090312431273200      0             0  cutscene_click  basic      0   NaN   \n",
       "1  20090312431273200      1          1323    person_click  basic      0   NaN   \n",
       "2  20090312431273200      2           831    person_click  basic      0   NaN   \n",
       "3  20090312431273200      3          1147    person_click  basic      0   NaN   \n",
       "4  20090312431273200      4          1863    person_click  basic      0   NaN   \n",
       "\n",
       "   room_coor_x  room_coor_y  screen_coor_x  screen_coor_y  hover_duration  \\\n",
       "0  -413.991405  -159.314686          380.0          494.0             NaN   \n",
       "1  -413.991405  -159.314686          380.0          494.0             NaN   \n",
       "2  -413.991405  -159.314686          380.0          494.0             NaN   \n",
       "3  -413.991405  -159.314686          380.0          494.0             NaN   \n",
       "4  -412.991405  -159.314686          381.0          494.0             NaN   \n",
       "\n",
       "                            text    fqid                       room_fqid  \\\n",
       "0                      undefined   intro  tunic.historicalsociety.closet   \n",
       "1  Whatcha doing over there, Jo?  gramps  tunic.historicalsociety.closet   \n",
       "2         Just talking to Teddy.  gramps  tunic.historicalsociety.closet   \n",
       "3     I gotta run to my meeting!  gramps  tunic.historicalsociety.closet   \n",
       "4            Can I come, Gramps?  gramps  tunic.historicalsociety.closet   \n",
       "\n",
       "                                           text_fqid  fullscreen  hq  music  \\\n",
       "0               tunic.historicalsociety.closet.intro           0   0      1   \n",
       "1  tunic.historicalsociety.closet.gramps.intro_0_...           0   0      1   \n",
       "2  tunic.historicalsociety.closet.gramps.intro_0_...           0   0      1   \n",
       "3  tunic.historicalsociety.closet.gramps.intro_0_...           0   0      1   \n",
       "4  tunic.historicalsociety.closet.gramps.intro_0_...           0   0      1   \n",
       "\n",
       "  level_group  \n",
       "0         0-4  \n",
       "1         0-4  \n",
       "2         0-4  \n",
       "3         0-4  \n",
       "4         0-4  "
      ]
     },
     "metadata": {},
     "output_type": "display_data"
    },
    {
     "name": "stdout",
     "output_type": "stream",
     "text": [
      "<class 'pandas.core.frame.DataFrame'>\n",
      "RangeIndex: 26296946 entries, 0 to 26296945\n",
      "Data columns (total 20 columns):\n",
      " #   Column          Dtype  \n",
      "---  ------          -----  \n",
      " 0   session_id      int64  \n",
      " 1   index           int64  \n",
      " 2   elapsed_time    int64  \n",
      " 3   event_name      object \n",
      " 4   name            object \n",
      " 5   level           int64  \n",
      " 6   page            float64\n",
      " 7   room_coor_x     float64\n",
      " 8   room_coor_y     float64\n",
      " 9   screen_coor_x   float64\n",
      " 10  screen_coor_y   float64\n",
      " 11  hover_duration  float64\n",
      " 12  text            object \n",
      " 13  fqid            object \n",
      " 14  room_fqid       object \n",
      " 15  text_fqid       object \n",
      " 16  fullscreen      int64  \n",
      " 17  hq              int64  \n",
      " 18  music           int64  \n",
      " 19  level_group     object \n",
      "dtypes: float64(6), int64(7), object(7)\n",
      "memory usage: 3.9+ GB\n",
      "None\n",
      "\n",
      "\n",
      "=== train_labels ===\n",
      "(424116, 2)\n"
     ]
    },
    {
     "data": {
      "text/html": [
       "<div>\n",
       "<style scoped>\n",
       "    .dataframe tbody tr th:only-of-type {\n",
       "        vertical-align: middle;\n",
       "    }\n",
       "\n",
       "    .dataframe tbody tr th {\n",
       "        vertical-align: top;\n",
       "    }\n",
       "\n",
       "    .dataframe thead th {\n",
       "        text-align: right;\n",
       "    }\n",
       "</style>\n",
       "<table border=\"1\" class=\"dataframe\">\n",
       "  <thead>\n",
       "    <tr style=\"text-align: right;\">\n",
       "      <th></th>\n",
       "      <th>session_q_id</th>\n",
       "      <th>correct</th>\n",
       "    </tr>\n",
       "  </thead>\n",
       "  <tbody>\n",
       "    <tr>\n",
       "      <th>0</th>\n",
       "      <td>20090312431273200_q1</td>\n",
       "      <td>1</td>\n",
       "    </tr>\n",
       "    <tr>\n",
       "      <th>1</th>\n",
       "      <td>20090312433251036_q1</td>\n",
       "      <td>0</td>\n",
       "    </tr>\n",
       "    <tr>\n",
       "      <th>2</th>\n",
       "      <td>20090312455206810_q1</td>\n",
       "      <td>1</td>\n",
       "    </tr>\n",
       "    <tr>\n",
       "      <th>3</th>\n",
       "      <td>20090313091715820_q1</td>\n",
       "      <td>0</td>\n",
       "    </tr>\n",
       "    <tr>\n",
       "      <th>4</th>\n",
       "      <td>20090313571836404_q1</td>\n",
       "      <td>1</td>\n",
       "    </tr>\n",
       "  </tbody>\n",
       "</table>\n",
       "</div>"
      ],
      "text/plain": [
       "           session_q_id  correct\n",
       "0  20090312431273200_q1        1\n",
       "1  20090312433251036_q1        0\n",
       "2  20090312455206810_q1        1\n",
       "3  20090313091715820_q1        0\n",
       "4  20090313571836404_q1        1"
      ]
     },
     "metadata": {},
     "output_type": "display_data"
    },
    {
     "name": "stdout",
     "output_type": "stream",
     "text": [
      "<class 'pandas.core.frame.DataFrame'>\n",
      "RangeIndex: 424116 entries, 0 to 424115\n",
      "Data columns (total 2 columns):\n",
      " #   Column        Non-Null Count   Dtype \n",
      "---  ------        --------------   ----- \n",
      " 0   session_q_id  424116 non-null  object\n",
      " 1   correct       424116 non-null  int64 \n",
      "dtypes: int64(1), object(1)\n",
      "memory usage: 6.5+ MB\n",
      "None\n",
      "\n",
      "\n",
      "=== test ===\n",
      "(3728, 21)\n"
     ]
    },
    {
     "data": {
      "text/html": [
       "<div>\n",
       "<style scoped>\n",
       "    .dataframe tbody tr th:only-of-type {\n",
       "        vertical-align: middle;\n",
       "    }\n",
       "\n",
       "    .dataframe tbody tr th {\n",
       "        vertical-align: top;\n",
       "    }\n",
       "\n",
       "    .dataframe thead th {\n",
       "        text-align: right;\n",
       "    }\n",
       "</style>\n",
       "<table border=\"1\" class=\"dataframe\">\n",
       "  <thead>\n",
       "    <tr style=\"text-align: right;\">\n",
       "      <th></th>\n",
       "      <th>session_id</th>\n",
       "      <th>index</th>\n",
       "      <th>elapsed_time</th>\n",
       "      <th>event_name</th>\n",
       "      <th>name</th>\n",
       "      <th>level</th>\n",
       "      <th>page</th>\n",
       "      <th>room_coor_x</th>\n",
       "      <th>room_coor_y</th>\n",
       "      <th>screen_coor_x</th>\n",
       "      <th>...</th>\n",
       "      <th>hover_duration</th>\n",
       "      <th>text</th>\n",
       "      <th>fqid</th>\n",
       "      <th>room_fqid</th>\n",
       "      <th>text_fqid</th>\n",
       "      <th>fullscreen</th>\n",
       "      <th>hq</th>\n",
       "      <th>music</th>\n",
       "      <th>level_group</th>\n",
       "      <th>session_level</th>\n",
       "    </tr>\n",
       "  </thead>\n",
       "  <tbody>\n",
       "    <tr>\n",
       "      <th>0</th>\n",
       "      <td>20090109393214576</td>\n",
       "      <td>0</td>\n",
       "      <td>0</td>\n",
       "      <td>cutscene_click</td>\n",
       "      <td>basic</td>\n",
       "      <td>0</td>\n",
       "      <td>NaN</td>\n",
       "      <td>-413.991405</td>\n",
       "      <td>75.685314</td>\n",
       "      <td>380.0</td>\n",
       "      <td>...</td>\n",
       "      <td>NaN</td>\n",
       "      <td>undefined</td>\n",
       "      <td>intro</td>\n",
       "      <td>tunic.historicalsociety.closet</td>\n",
       "      <td>tunic.historicalsociety.closet.intro</td>\n",
       "      <td>0</td>\n",
       "      <td>0</td>\n",
       "      <td>1</td>\n",
       "      <td>0-4</td>\n",
       "      <td>0</td>\n",
       "    </tr>\n",
       "    <tr>\n",
       "      <th>1</th>\n",
       "      <td>20090109393214576</td>\n",
       "      <td>1</td>\n",
       "      <td>1965</td>\n",
       "      <td>person_click</td>\n",
       "      <td>basic</td>\n",
       "      <td>0</td>\n",
       "      <td>NaN</td>\n",
       "      <td>-105.991405</td>\n",
       "      <td>-63.314686</td>\n",
       "      <td>688.0</td>\n",
       "      <td>...</td>\n",
       "      <td>NaN</td>\n",
       "      <td>Whatcha doing over there, Jo?</td>\n",
       "      <td>gramps</td>\n",
       "      <td>tunic.historicalsociety.closet</td>\n",
       "      <td>tunic.historicalsociety.closet.gramps.intro_0_...</td>\n",
       "      <td>0</td>\n",
       "      <td>0</td>\n",
       "      <td>1</td>\n",
       "      <td>0-4</td>\n",
       "      <td>0</td>\n",
       "    </tr>\n",
       "    <tr>\n",
       "      <th>2</th>\n",
       "      <td>20090109393214576</td>\n",
       "      <td>2</td>\n",
       "      <td>3614</td>\n",
       "      <td>person_click</td>\n",
       "      <td>basic</td>\n",
       "      <td>0</td>\n",
       "      <td>NaN</td>\n",
       "      <td>-418.991405</td>\n",
       "      <td>47.685314</td>\n",
       "      <td>375.0</td>\n",
       "      <td>...</td>\n",
       "      <td>NaN</td>\n",
       "      <td>Just talking to Teddy.</td>\n",
       "      <td>gramps</td>\n",
       "      <td>tunic.historicalsociety.closet</td>\n",
       "      <td>tunic.historicalsociety.closet.gramps.intro_0_...</td>\n",
       "      <td>0</td>\n",
       "      <td>0</td>\n",
       "      <td>1</td>\n",
       "      <td>0-4</td>\n",
       "      <td>0</td>\n",
       "    </tr>\n",
       "    <tr>\n",
       "      <th>3</th>\n",
       "      <td>20090109393214576</td>\n",
       "      <td>3</td>\n",
       "      <td>5330</td>\n",
       "      <td>person_click</td>\n",
       "      <td>basic</td>\n",
       "      <td>0</td>\n",
       "      <td>NaN</td>\n",
       "      <td>-110.991405</td>\n",
       "      <td>-57.314686</td>\n",
       "      <td>683.0</td>\n",
       "      <td>...</td>\n",
       "      <td>NaN</td>\n",
       "      <td>I gotta run to my meeting!</td>\n",
       "      <td>gramps</td>\n",
       "      <td>tunic.historicalsociety.closet</td>\n",
       "      <td>tunic.historicalsociety.closet.gramps.intro_0_...</td>\n",
       "      <td>0</td>\n",
       "      <td>0</td>\n",
       "      <td>1</td>\n",
       "      <td>0-4</td>\n",
       "      <td>0</td>\n",
       "    </tr>\n",
       "    <tr>\n",
       "      <th>4</th>\n",
       "      <td>20090109393214576</td>\n",
       "      <td>4</td>\n",
       "      <td>6397</td>\n",
       "      <td>person_click</td>\n",
       "      <td>basic</td>\n",
       "      <td>0</td>\n",
       "      <td>NaN</td>\n",
       "      <td>-110.991405</td>\n",
       "      <td>-57.314686</td>\n",
       "      <td>683.0</td>\n",
       "      <td>...</td>\n",
       "      <td>NaN</td>\n",
       "      <td>Can I come, Gramps?</td>\n",
       "      <td>gramps</td>\n",
       "      <td>tunic.historicalsociety.closet</td>\n",
       "      <td>tunic.historicalsociety.closet.gramps.intro_0_...</td>\n",
       "      <td>0</td>\n",
       "      <td>0</td>\n",
       "      <td>1</td>\n",
       "      <td>0-4</td>\n",
       "      <td>0</td>\n",
       "    </tr>\n",
       "  </tbody>\n",
       "</table>\n",
       "<p>5 rows × 21 columns</p>\n",
       "</div>"
      ],
      "text/plain": [
       "          session_id  index  elapsed_time      event_name   name  level  page  \\\n",
       "0  20090109393214576      0             0  cutscene_click  basic      0   NaN   \n",
       "1  20090109393214576      1          1965    person_click  basic      0   NaN   \n",
       "2  20090109393214576      2          3614    person_click  basic      0   NaN   \n",
       "3  20090109393214576      3          5330    person_click  basic      0   NaN   \n",
       "4  20090109393214576      4          6397    person_click  basic      0   NaN   \n",
       "\n",
       "   room_coor_x  room_coor_y  screen_coor_x  ...  hover_duration  \\\n",
       "0  -413.991405    75.685314          380.0  ...             NaN   \n",
       "1  -105.991405   -63.314686          688.0  ...             NaN   \n",
       "2  -418.991405    47.685314          375.0  ...             NaN   \n",
       "3  -110.991405   -57.314686          683.0  ...             NaN   \n",
       "4  -110.991405   -57.314686          683.0  ...             NaN   \n",
       "\n",
       "                            text    fqid                       room_fqid  \\\n",
       "0                      undefined   intro  tunic.historicalsociety.closet   \n",
       "1  Whatcha doing over there, Jo?  gramps  tunic.historicalsociety.closet   \n",
       "2         Just talking to Teddy.  gramps  tunic.historicalsociety.closet   \n",
       "3     I gotta run to my meeting!  gramps  tunic.historicalsociety.closet   \n",
       "4            Can I come, Gramps?  gramps  tunic.historicalsociety.closet   \n",
       "\n",
       "                                           text_fqid fullscreen  hq  music  \\\n",
       "0               tunic.historicalsociety.closet.intro          0   0      1   \n",
       "1  tunic.historicalsociety.closet.gramps.intro_0_...          0   0      1   \n",
       "2  tunic.historicalsociety.closet.gramps.intro_0_...          0   0      1   \n",
       "3  tunic.historicalsociety.closet.gramps.intro_0_...          0   0      1   \n",
       "4  tunic.historicalsociety.closet.gramps.intro_0_...          0   0      1   \n",
       "\n",
       "   level_group session_level  \n",
       "0          0-4             0  \n",
       "1          0-4             0  \n",
       "2          0-4             0  \n",
       "3          0-4             0  \n",
       "4          0-4             0  \n",
       "\n",
       "[5 rows x 21 columns]"
      ]
     },
     "metadata": {},
     "output_type": "display_data"
    },
    {
     "name": "stdout",
     "output_type": "stream",
     "text": [
      "<class 'pandas.core.frame.DataFrame'>\n",
      "RangeIndex: 3728 entries, 0 to 3727\n",
      "Data columns (total 21 columns):\n",
      " #   Column          Non-Null Count  Dtype  \n",
      "---  ------          --------------  -----  \n",
      " 0   session_id      3728 non-null   int64  \n",
      " 1   index           3728 non-null   int64  \n",
      " 2   elapsed_time    3728 non-null   int64  \n",
      " 3   event_name      3728 non-null   object \n",
      " 4   name            3728 non-null   object \n",
      " 5   level           3728 non-null   int64  \n",
      " 6   page            153 non-null    float64\n",
      " 7   room_coor_x     3366 non-null   float64\n",
      " 8   room_coor_y     3366 non-null   float64\n",
      " 9   screen_coor_x   3366 non-null   float64\n",
      " 10  screen_coor_y   3366 non-null   float64\n",
      " 11  hover_duration  353 non-null    float64\n",
      " 12  text            1162 non-null   object \n",
      " 13  fqid            2505 non-null   object \n",
      " 14  room_fqid       3728 non-null   object \n",
      " 15  text_fqid       1162 non-null   object \n",
      " 16  fullscreen      3728 non-null   int64  \n",
      " 17  hq              3728 non-null   int64  \n",
      " 18  music           3728 non-null   int64  \n",
      " 19  level_group     3728 non-null   object \n",
      " 20  session_level   3728 non-null   int64  \n",
      "dtypes: float64(6), int64(8), object(7)\n",
      "memory usage: 611.8+ KB\n",
      "None\n",
      "\n",
      "\n",
      "=== sample_submission ===\n",
      "(54, 3)\n"
     ]
    },
    {
     "data": {
      "text/html": [
       "<div>\n",
       "<style scoped>\n",
       "    .dataframe tbody tr th:only-of-type {\n",
       "        vertical-align: middle;\n",
       "    }\n",
       "\n",
       "    .dataframe tbody tr th {\n",
       "        vertical-align: top;\n",
       "    }\n",
       "\n",
       "    .dataframe thead th {\n",
       "        text-align: right;\n",
       "    }\n",
       "</style>\n",
       "<table border=\"1\" class=\"dataframe\">\n",
       "  <thead>\n",
       "    <tr style=\"text-align: right;\">\n",
       "      <th></th>\n",
       "      <th>session_q_id</th>\n",
       "      <th>correct</th>\n",
       "      <th>session_level</th>\n",
       "    </tr>\n",
       "  </thead>\n",
       "  <tbody>\n",
       "    <tr>\n",
       "      <th>0</th>\n",
       "      <td>20090109393214576_q1</td>\n",
       "      <td>0</td>\n",
       "      <td>0</td>\n",
       "    </tr>\n",
       "    <tr>\n",
       "      <th>1</th>\n",
       "      <td>20090312143683264_q1</td>\n",
       "      <td>0</td>\n",
       "      <td>0</td>\n",
       "    </tr>\n",
       "    <tr>\n",
       "      <th>2</th>\n",
       "      <td>20090312331414616_q1</td>\n",
       "      <td>0</td>\n",
       "      <td>0</td>\n",
       "    </tr>\n",
       "    <tr>\n",
       "      <th>3</th>\n",
       "      <td>20090109393214576_q2</td>\n",
       "      <td>0</td>\n",
       "      <td>0</td>\n",
       "    </tr>\n",
       "    <tr>\n",
       "      <th>4</th>\n",
       "      <td>20090312143683264_q2</td>\n",
       "      <td>0</td>\n",
       "      <td>0</td>\n",
       "    </tr>\n",
       "  </tbody>\n",
       "</table>\n",
       "</div>"
      ],
      "text/plain": [
       "           session_q_id  correct  session_level\n",
       "0  20090109393214576_q1        0              0\n",
       "1  20090312143683264_q1        0              0\n",
       "2  20090312331414616_q1        0              0\n",
       "3  20090109393214576_q2        0              0\n",
       "4  20090312143683264_q2        0              0"
      ]
     },
     "metadata": {},
     "output_type": "display_data"
    },
    {
     "name": "stdout",
     "output_type": "stream",
     "text": [
      "<class 'pandas.core.frame.DataFrame'>\n",
      "RangeIndex: 54 entries, 0 to 53\n",
      "Data columns (total 3 columns):\n",
      " #   Column         Non-Null Count  Dtype \n",
      "---  ------         --------------  ----- \n",
      " 0   session_q_id   54 non-null     object\n",
      " 1   correct        54 non-null     int64 \n",
      " 2   session_level  54 non-null     int64 \n",
      "dtypes: int64(2), object(1)\n",
      "memory usage: 1.4+ KB\n",
      "None\n"
     ]
    }
   ],
   "source": [
    "dfs = {\n",
    "    \"train\": train,\n",
    "    \"train_labels\": train_labels,\n",
    "    \"test\": test,\n",
    "    \"sample_submission\": sample_submission,\n",
    "}\n",
    "\n",
    "\n",
    "for name, df in dfs.items():\n",
    "    print(\"\\n\\n===\", name, \"===\")\n",
    "    print(df.shape)\n",
    "    display(df.head())\n",
    "    print(df.info())"
   ]
  },
  {
   "attachments": {},
   "cell_type": "markdown",
   "metadata": {},
   "source": [
    "### カラムの意味\n",
    "\n",
    "- session_id - イベントが発生したセッションのID\n",
    "- index - セッション内でのイベントのインデックス\n",
    "- elapsed_time - セッションの開始からイベントの記録までに経過した時間（ミリ秒単位）\n",
    "- event_name - イベントの種類の名前\n",
    "- name - イベント名（例えば、ノートブックをクリックしたのが開くか閉じるかを識別する）\n",
    "- level - イベントが発生したゲームのレベル（0から22）\n",
    "- page - イベントのページ番号（ノートブック関連のイベントのみ）\n",
    "- room_coor_x - クリックした場所のゲーム内の部屋に対する座標（クリックイベントのみ）\n",
    "- room_coor_y - クリックした場所のゲーム内の部屋に対する座標（クリックイベントのみ）\n",
    "- screen_coor_x - クリックした場所のプレイヤーの画面に対する座標（クリックイベントのみ）\n",
    "- screen_coor_y - クリックした場所のプレイヤーの画面に対する座標（クリックイベントのみ）\n",
    "- hover_duration - ホバーイベントが発生した時間（ミリ秒単位）（ホバーイベントのみ）\n",
    "- text - プレイヤーがこのイベントで見たテキスト\n",
    "- fqid - イベントの完全修飾ID\n",
    "- room_fqid - イベントが発生した部屋の完全修飾ID\n",
    "- text_fqid - イベントに関連するテキストの完全修飾ID\n",
    "- fullscreen - プレイヤーがフルスクリーンモードかどうか\n",
    "- hq - ゲームが高品質モードかどうか\n",
    "- music - ゲームの音楽がオンかオフか\n",
    "- level_group - この行が属するレベルグループ（および質問グループ）（0-4、5-12、13-22）"
   ]
  },
  {
   "attachments": {},
   "cell_type": "markdown",
   "metadata": {},
   "source": [
    "## Todo memo\n",
    "\n",
    "- カテゴリと数字データは分けて分析したい\n",
    "  - train, testでカテゴリデータは網羅されていると思ってよい？ない場合はnullで補完する必要がある\n",
    "- 予測対象のユーザはユニーク？\n",
    "- 特徴量はグループごとに作成し、0-4の特徴量でq_id in(0,1,2,3,4)を予測する？"
   ]
  },
  {
   "attachments": {},
   "cell_type": "markdown",
   "metadata": {},
   "source": [
    "## Num Unique session_id"
   ]
  },
  {
   "cell_type": "code",
   "execution_count": 7,
   "metadata": {},
   "outputs": [],
   "source": [
    "train_labels.rename(columns={\"session_id\": \"session_q_id\"}, inplace=True)\n",
    "sample_submission.rename(columns={\"session_id\": \"session_q_id\"}, inplace=True)"
   ]
  },
  {
   "cell_type": "code",
   "execution_count": 8,
   "metadata": {},
   "outputs": [],
   "source": [
    "train[\"session_q_id\"] = train[\"session_id\"].astype(str) + \"_q\" + train[\"level\"].astype(str)\n",
    "test[\"session_q_id\"] = test[\"session_id\"].astype(str) + \"_q\" + test[\"level\"].astype(str)"
   ]
  },
  {
   "cell_type": "code",
   "execution_count": 9,
   "metadata": {},
   "outputs": [],
   "source": [
    "train_labels = train_labels.assign(\n",
    "    level=train_labels[\"session_q_id\"].apply(lambda x: x.split('_')[1][-1]).astype(int),\n",
    "    session_id=train_labels[\"session_q_id\"].apply(lambda x: x.split('_')[0])\n",
    ")\n",
    "sample_submission = sample_submission.assign(\n",
    "    level=sample_submission[\"session_q_id\"].apply(lambda x: x.split('_')[1][-1]).astype(int),\n",
    "    session_id=sample_submission[\"session_q_id\"].apply(lambda x: x.split('_')[0])\n",
    ")"
   ]
  },
  {
   "cell_type": "code",
   "execution_count": 10,
   "metadata": {},
   "outputs": [
    {
     "name": "stdout",
     "output_type": "stream",
     "text": [
      "\n",
      "\n",
      "=== train ===\n",
      "NUnique session id: 23562\n",
      "NUnique session q id: 541342\n",
      "NUnique session q id: [0, 1, 2, 3, 4, 5, 6, 7, 8, 9, 10, 11, 12, 13, 14, 15, 16, 17, 18, 19, 20, 21, 22]\n",
      "\n",
      "\n",
      "=== train_labels ===\n",
      "NUnique session id: 23562\n",
      "NUnique session q id: 424116\n",
      "NUnique session q id: [0, 1, 2, 3, 4, 5, 6, 7, 8, 9]\n",
      "\n",
      "\n",
      "=== test ===\n",
      "NUnique session id: 3\n",
      "NUnique session q id: 69\n",
      "NUnique session q id: [0, 1, 2, 3, 4, 5, 6, 7, 8, 9, 10, 11, 12, 13, 14, 15, 16, 17, 18, 19, 20, 21, 22]\n",
      "\n",
      "\n",
      "=== sample_submission ===\n",
      "NUnique session id: 3\n",
      "NUnique session q id: 54\n",
      "NUnique session q id: [0, 1, 2, 3, 4, 5, 6, 7, 8, 9]\n"
     ]
    }
   ],
   "source": [
    "dfs = {\n",
    "    \"train\": train,\n",
    "    \"train_labels\": train_labels,\n",
    "    \"test\": test,\n",
    "    \"sample_submission\": sample_submission,\n",
    "}\n",
    "\n",
    "for name, df in dfs.items():\n",
    "    print(\"\\n\\n===\", name, \"===\")\n",
    "    print(\"NUnique session id:\", df[\"session_id\"].nunique())\n",
    "    \n",
    "    print(\"NUnique session q id:\", df[\"session_q_id\"].nunique())\n",
    "    print(\"NUnique session q id:\", sorted(df[\"level\"].unique()))"
   ]
  },
  {
   "cell_type": "code",
   "execution_count": 11,
   "metadata": {},
   "outputs": [
    {
     "name": "stdout",
     "output_type": "stream",
     "text": [
      "Train\n",
      "0-4 >>> 23562\n",
      "13-22 >>> 23562\n",
      "5-12 >>> 23562\n",
      "Test\n",
      "0-4 >>> 3\n",
      "13-22 >>> 3\n",
      "5-12 >>> 3\n"
     ]
    }
   ],
   "source": [
    "# NOTE: Unique session ids each level group. \n",
    "for name, df in [(\"Train\", train), (\"Test\", test)]:\n",
    "    print(name)\n",
    "    for lg, gdf in df.groupby(\"level_group\"):\n",
    "        print(lg, \">>>\", gdf[\"session_id\"].nunique())"
   ]
  },
  {
   "attachments": {},
   "cell_type": "markdown",
   "metadata": {},
   "source": [
    "## Check for duplicate session_id"
   ]
  },
  {
   "cell_type": "code",
   "execution_count": 12,
   "metadata": {},
   "outputs": [],
   "source": [
    "train_session_ids = set(train[\"session_id\"].unique())\n",
    "test_session_ids = set(test[\"session_id\"].unique())"
   ]
  },
  {
   "cell_type": "code",
   "execution_count": 13,
   "metadata": {},
   "outputs": [
    {
     "name": "stdout",
     "output_type": "stream",
     "text": [
      "Duplicate session ids: 0\n"
     ]
    }
   ],
   "source": [
    "print(\"Duplicate session ids:\", len(train_session_ids) - len(train_session_ids - test_session_ids))"
   ]
  },
  {
   "attachments": {},
   "cell_type": "markdown",
   "metadata": {},
   "source": [
    "重複はないので、評価時もsession_idで排他的にする必要がありそう\n"
   ]
  },
  {
   "attachments": {},
   "cell_type": "markdown",
   "metadata": {},
   "source": [
    "## Demo test timeseries api\n",
    "\n",
    "private lbで評価されるデータ量はtrainと同じくらいの量がある"
   ]
  },
  {
   "cell_type": "code",
   "execution_count": 14,
   "metadata": {},
   "outputs": [
    {
     "name": "stdout",
     "output_type": "stream",
     "text": [
      "NUnique session q id: [0, 1, 2, 3, 4]\n",
      "NUnique session q id: [5, 6, 7, 8, 9, 10, 11, 12]\n",
      "NUnique session q id: [13, 14, 15, 16, 17, 18, 19, 20, 21, 22]\n"
     ]
    }
   ],
   "source": [
    "level_groups = {'0-4':(1,4), '5-12':(4,14), '13-22':(14,19)}\n",
    "\n",
    "for level_group, level_range in level_groups.items():\n",
    "    test_iter = test.query(\"level_group==@level_group\")\n",
    "    print(\"NUnique session q id:\", sorted(test_iter[\"level\"].unique()))"
   ]
  },
  {
   "attachments": {},
   "cell_type": "markdown",
   "metadata": {},
   "source": [
    "## Null values"
   ]
  },
  {
   "cell_type": "code",
   "execution_count": 16,
   "metadata": {},
   "outputs": [
    {
     "data": {
      "text/plain": [
       "session_id        0.000000\n",
       "index             0.000000\n",
       "elapsed_time      0.000000\n",
       "event_name        0.000000\n",
       "name              0.000000\n",
       "level             0.000000\n",
       "page              0.978532\n",
       "room_coor_x       0.078841\n",
       "room_coor_y       0.078841\n",
       "screen_coor_x     0.078841\n",
       "screen_coor_y     0.078841\n",
       "hover_duration    0.923860\n",
       "text              0.634287\n",
       "fqid              0.314653\n",
       "room_fqid         0.000000\n",
       "text_fqid         0.634283\n",
       "fullscreen        0.000000\n",
       "hq                0.000000\n",
       "music             0.000000\n",
       "level_group       0.000000\n",
       "session_q_id      0.000000\n",
       "dtype: float64"
      ]
     },
     "execution_count": 16,
     "metadata": {},
     "output_type": "execute_result"
    }
   ],
   "source": [
    "train.isnull().mean()"
   ]
  },
  {
   "cell_type": "code",
   "execution_count": 17,
   "metadata": {},
   "outputs": [],
   "source": [
    "# NOTE: 上記より、以下のカラムは全てnull\n",
    "cols_null_all = [\"fullscreen\", \"hq\", \"music\"]"
   ]
  },
  {
   "attachments": {},
   "cell_type": "markdown",
   "metadata": {},
   "source": [
    "## Categorical and numeric\n",
    "\n",
    "- event_name\n",
    "  - 数も多すぎず、特徴量になりそう\n",
    "- name\n",
    "  - 同じく特徴量になりそう\n",
    "- text\n",
    "  - event_nameに対する付加情報になりうるが、前処理のコストが高そう\n",
    "- fqid\n",
    "  - ちょっとよくわからんが2%以下はothersとして、カテゴリ変数として使うのがよさそう\n",
    "- room_fqid\n",
    "  - ３つの要素に分割してカテゴリ変数にする\n",
    "  - １つ目のブロックは単一の値しか取らないので無視する\n",
    "- text_fqid\n",
    "  - 内容が複雑っぽい\n",
    "  - text同様に前処理のコストが高いかも？\n",
    "- level_qid\n",
    "  - 特徴量に入れる？\n",
    "  - もしかしたらモデルを分けたほうが予測速度が早い？"
   ]
  },
  {
   "cell_type": "code",
   "execution_count": 18,
   "metadata": {},
   "outputs": [],
   "source": [
    "cols_cat = [\n",
    "    \"event_name\",\n",
    "    \"name\",\n",
    "    \"text\",\n",
    "    \"fqid\",\n",
    "    \"room_fqid\",\n",
    "    \"room_fqid_0\",\n",
    "    \"room_fqid_1\",\n",
    "    \"room_fqid_2\",\n",
    "    \"text_fqid\",\n",
    "    \"level_group\",\n",
    "]\n",
    "cols_num = [\n",
    "    \"elapsed_time\",\n",
    "    \"level\",\n",
    "    \"page\",\n",
    "    \"room_coor_x\",\n",
    "    \"room_coor_y\",\n",
    "    \"screen_coor_x\",\n",
    "    \"screen_coor_y\",\n",
    "    \"hover_duration\",\n",
    "    \"fullscreen\",\n",
    "    \"hq\",\n",
    "    \"music\",\n",
    "]"
   ]
  },
  {
   "attachments": {},
   "cell_type": "markdown",
   "metadata": {},
   "source": [
    "### Categorical"
   ]
  },
  {
   "cell_type": "code",
   "execution_count": 19,
   "metadata": {},
   "outputs": [],
   "source": [
    "train[[f\"room_fqid_{i}\" for i in range(3)]] = train[\"room_fqid\"].str.split(\".\", expand=True)\n",
    "test[[f\"room_fqid_{i}\" for i in range(3)]] = test[\"room_fqid\"].str.split(\".\", expand=True)"
   ]
  },
  {
   "cell_type": "code",
   "execution_count": 20,
   "metadata": {},
   "outputs": [
    {
     "data": {
      "text/html": [
       "<div>\n",
       "<style scoped>\n",
       "    .dataframe tbody tr th:only-of-type {\n",
       "        vertical-align: middle;\n",
       "    }\n",
       "\n",
       "    .dataframe tbody tr th {\n",
       "        vertical-align: top;\n",
       "    }\n",
       "\n",
       "    .dataframe thead th {\n",
       "        text-align: right;\n",
       "    }\n",
       "</style>\n",
       "<table border=\"1\" class=\"dataframe\">\n",
       "  <thead>\n",
       "    <tr style=\"text-align: right;\">\n",
       "      <th></th>\n",
       "      <th>event_name</th>\n",
       "      <th>name</th>\n",
       "      <th>text</th>\n",
       "      <th>fqid</th>\n",
       "      <th>room_fqid</th>\n",
       "      <th>room_fqid_0</th>\n",
       "      <th>room_fqid_1</th>\n",
       "      <th>room_fqid_2</th>\n",
       "      <th>text_fqid</th>\n",
       "      <th>level_group</th>\n",
       "    </tr>\n",
       "  </thead>\n",
       "  <tbody>\n",
       "    <tr>\n",
       "      <th>count</th>\n",
       "      <td>26296946</td>\n",
       "      <td>26296946</td>\n",
       "      <td>9617139</td>\n",
       "      <td>18022531</td>\n",
       "      <td>26296946</td>\n",
       "      <td>26296946</td>\n",
       "      <td>26296946</td>\n",
       "      <td>26296946</td>\n",
       "      <td>9617244</td>\n",
       "      <td>26296946</td>\n",
       "    </tr>\n",
       "    <tr>\n",
       "      <th>unique</th>\n",
       "      <td>11</td>\n",
       "      <td>6</td>\n",
       "      <td>597</td>\n",
       "      <td>128</td>\n",
       "      <td>19</td>\n",
       "      <td>1</td>\n",
       "      <td>10</td>\n",
       "      <td>13</td>\n",
       "      <td>126</td>\n",
       "      <td>3</td>\n",
       "    </tr>\n",
       "    <tr>\n",
       "      <th>top</th>\n",
       "      <td>navigate_click</td>\n",
       "      <td>undefined</td>\n",
       "      <td>undefined</td>\n",
       "      <td>worker</td>\n",
       "      <td>tunic.historicalsociety.entry</td>\n",
       "      <td>tunic</td>\n",
       "      <td>historicalsociety</td>\n",
       "      <td>frontdesk</td>\n",
       "      <td>tunic.historicalsociety.cage.confrontation</td>\n",
       "      <td>13-22</td>\n",
       "    </tr>\n",
       "    <tr>\n",
       "      <th>freq</th>\n",
       "      <td>11326433</td>\n",
       "      <td>12705785</td>\n",
       "      <td>355969</td>\n",
       "      <td>1878958</td>\n",
       "      <td>3622003</td>\n",
       "      <td>26296946</td>\n",
       "      <td>14715313</td>\n",
       "      <td>6397073</td>\n",
       "      <td>666557</td>\n",
       "      <td>13471703</td>\n",
       "    </tr>\n",
       "  </tbody>\n",
       "</table>\n",
       "</div>"
      ],
      "text/plain": [
       "            event_name       name       text      fqid  \\\n",
       "count         26296946   26296946    9617139  18022531   \n",
       "unique              11          6        597       128   \n",
       "top     navigate_click  undefined  undefined    worker   \n",
       "freq          11326433   12705785     355969   1878958   \n",
       "\n",
       "                            room_fqid room_fqid_0        room_fqid_1  \\\n",
       "count                        26296946    26296946           26296946   \n",
       "unique                             19           1                 10   \n",
       "top     tunic.historicalsociety.entry       tunic  historicalsociety   \n",
       "freq                          3622003    26296946           14715313   \n",
       "\n",
       "       room_fqid_2                                   text_fqid level_group  \n",
       "count     26296946                                     9617244    26296946  \n",
       "unique          13                                         126           3  \n",
       "top      frontdesk  tunic.historicalsociety.cage.confrontation       13-22  \n",
       "freq       6397073                                      666557    13471703  "
      ]
     },
     "execution_count": 20,
     "metadata": {},
     "output_type": "execute_result"
    }
   ],
   "source": [
    "train[cols_cat].describe(include=\"O\")"
   ]
  },
  {
   "cell_type": "code",
   "execution_count": 21,
   "metadata": {},
   "outputs": [
    {
     "name": "stdout",
     "output_type": "stream",
     "text": [
      "event_name >>>\n"
     ]
    },
    {
     "data": {
      "text/plain": [
       "navigate_click        0.430713\n",
       "person_click          0.230173\n",
       "cutscene_click        0.102789\n",
       "object_click          0.083592\n",
       "object_hover          0.040198\n",
       "map_hover             0.035942\n",
       "notification_click    0.024680\n",
       "notebook_click        0.021468\n",
       "map_click             0.019669\n",
       "observation_click     0.008075\n",
       "Name: event_name, dtype: float64"
      ]
     },
     "metadata": {},
     "output_type": "display_data"
    },
    {
     "data": {
      "text/plain": [
       "checkpoint            0.002701\n",
       "observation_click     0.008075\n",
       "map_click             0.019669\n",
       "notebook_click        0.021468\n",
       "notification_click    0.024680\n",
       "map_hover             0.035942\n",
       "object_hover          0.040198\n",
       "object_click          0.083592\n",
       "cutscene_click        0.102789\n",
       "person_click          0.230173\n",
       "Name: event_name, dtype: float64"
      ]
     },
     "metadata": {},
     "output_type": "display_data"
    },
    {
     "name": "stdout",
     "output_type": "stream",
     "text": [
      "name >>>\n"
     ]
    },
    {
     "data": {
      "text/plain": [
       "undefined    0.483166\n",
       "basic        0.480986\n",
       "close        0.025733\n",
       "open         0.008942\n",
       "prev         0.000732\n",
       "next         0.000441\n",
       "Name: name, dtype: float64"
      ]
     },
     "metadata": {},
     "output_type": "display_data"
    },
    {
     "data": {
      "text/plain": [
       "next         0.000441\n",
       "prev         0.000732\n",
       "open         0.008942\n",
       "close        0.025733\n",
       "basic        0.480986\n",
       "undefined    0.483166\n",
       "Name: name, dtype: float64"
      ]
     },
     "metadata": {},
     "output_type": "display_data"
    },
    {
     "name": "stdout",
     "output_type": "stream",
     "text": [
      "text >>>\n"
     ]
    },
    {
     "data": {
      "text/plain": [
       "undefined                                                    0.037014\n",
       "\\u00f0\\u0178\\u02dc\\u0090                                     0.005075\n",
       "Hey!                                                         0.004934\n",
       "I should go to the Capitol and tell Mrs. M!                  0.004207\n",
       "This is perfect for the exhibit.                             0.004182\n",
       "Look at all those activists!                                 0.004182\n",
       "If I were you, I'd go to the library and do some digging.    0.004081\n",
       "Ugh. Fine.                                                   0.003744\n",
       "\\u00f0\\u0178\\u02dc\\u00b4                                     0.003707\n",
       "You can talk to a textile expert there.                      0.003660\n",
       "Name: text, dtype: float64"
      ]
     },
     "metadata": {},
     "output_type": "display_data"
    },
    {
     "data": {
      "text/plain": [
       "AND he stole Teddy!                                1.039810e-07\n",
       "Mrs. M, I think Wells kidnapped Teddy.             1.039810e-07\n",
       "Leopold, can you run back to the museum?           1.039810e-07\n",
       "Wells sabotaged Gramps!                            1.039810e-07\n",
       "Here I am!                                         1.039810e-07\n",
       "He got a park named after him? Cool!               1.039810e-07\n",
       "Are you going home now? Tomorrow's the big day!    1.039810e-07\n",
       "Thanks!                                            1.039810e-07\n",
       "I hope you find your badger, kid.                  1.039810e-07\n",
       "Jo, meet me back at my office.                     1.039810e-07\n",
       "Name: text, dtype: float64"
      ]
     },
     "metadata": {},
     "output_type": "display_data"
    },
    {
     "name": "stdout",
     "output_type": "stream",
     "text": [
      "fqid >>>\n"
     ]
    },
    {
     "data": {
      "text/plain": [
       "worker           0.104256\n",
       "archivist        0.062552\n",
       "gramps           0.062270\n",
       "wells            0.043691\n",
       "toentry          0.043529\n",
       "confrontation    0.038679\n",
       "crane_ranger     0.027961\n",
       "groupconvo       0.025285\n",
       "flag_girl        0.024954\n",
       "tomap            0.022364\n",
       "Name: fqid, dtype: float64"
      ]
     },
     "metadata": {},
     "output_type": "display_data"
    },
    {
     "data": {
      "text/plain": [
       "chap2_finale                    5.548610e-08\n",
       "block_1                         2.052986e-06\n",
       "fox                             2.580104e-05\n",
       "block_badge_2                   5.509770e-05\n",
       "need_glasses                    7.196547e-05\n",
       "block_badge                     9.110818e-05\n",
       "block_tomap1                    9.765554e-05\n",
       "journals_flag.pic_2_old.next    1.111941e-04\n",
       "block_nelson                    1.272296e-04\n",
       "block_tocollection              1.278400e-04\n",
       "Name: fqid, dtype: float64"
      ]
     },
     "metadata": {},
     "output_type": "display_data"
    },
    {
     "name": "stdout",
     "output_type": "stream",
     "text": [
      "room_fqid >>>\n"
     ]
    },
    {
     "data": {
      "text/plain": [
       "tunic.historicalsociety.entry           0.137735\n",
       "tunic.wildlife.center                   0.114582\n",
       "tunic.historicalsociety.cage            0.089443\n",
       "tunic.library.frontdesk                 0.081594\n",
       "tunic.historicalsociety.frontdesk       0.073889\n",
       "tunic.historicalsociety.stacks          0.068221\n",
       "tunic.historicalsociety.closet_dirty    0.059664\n",
       "tunic.humanecology.frontdesk            0.050458\n",
       "tunic.historicalsociety.basement        0.044419\n",
       "tunic.kohlcenter.halloffame             0.041711\n",
       "Name: room_fqid, dtype: float64"
      ]
     },
     "metadata": {},
     "output_type": "display_data"
    },
    {
     "data": {
      "text/plain": [
       "tunic.capitol_2.hall                       0.012400\n",
       "tunic.capitol_0.hall                       0.015837\n",
       "tunic.capitol_1.hall                       0.016944\n",
       "tunic.historicalsociety.collection_flag    0.017203\n",
       "tunic.flaghouse.entry                      0.031707\n",
       "tunic.historicalsociety.closet             0.032600\n",
       "tunic.historicalsociety.collection         0.036407\n",
       "tunic.drycleaner.frontdesk                 0.037322\n",
       "tunic.library.microfiche                   0.037863\n",
       "tunic.kohlcenter.halloffame                0.041711\n",
       "Name: room_fqid, dtype: float64"
      ]
     },
     "metadata": {},
     "output_type": "display_data"
    },
    {
     "name": "stdout",
     "output_type": "stream",
     "text": [
      "room_fqid_0 >>>\n"
     ]
    },
    {
     "data": {
      "text/plain": [
       "tunic    1.0\n",
       "Name: room_fqid_0, dtype: float64"
      ]
     },
     "metadata": {},
     "output_type": "display_data"
    },
    {
     "data": {
      "text/plain": [
       "tunic    1.0\n",
       "Name: room_fqid_0, dtype: float64"
      ]
     },
     "metadata": {},
     "output_type": "display_data"
    },
    {
     "name": "stdout",
     "output_type": "stream",
     "text": [
      "room_fqid_1 >>>\n"
     ]
    },
    {
     "data": {
      "text/plain": [
       "historicalsociety    0.559583\n",
       "library              0.119456\n",
       "wildlife             0.114582\n",
       "humanecology         0.050458\n",
       "kohlcenter           0.041711\n",
       "drycleaner           0.037322\n",
       "flaghouse            0.031707\n",
       "capitol_1            0.016944\n",
       "capitol_0            0.015837\n",
       "capitol_2            0.012400\n",
       "Name: room_fqid_1, dtype: float64"
      ]
     },
     "metadata": {},
     "output_type": "display_data"
    },
    {
     "data": {
      "text/plain": [
       "capitol_2            0.012400\n",
       "capitol_0            0.015837\n",
       "capitol_1            0.016944\n",
       "flaghouse            0.031707\n",
       "drycleaner           0.037322\n",
       "kohlcenter           0.041711\n",
       "humanecology         0.050458\n",
       "wildlife             0.114582\n",
       "library              0.119456\n",
       "historicalsociety    0.559583\n",
       "Name: room_fqid_1, dtype: float64"
      ]
     },
     "metadata": {},
     "output_type": "display_data"
    },
    {
     "name": "stdout",
     "output_type": "stream",
     "text": [
      "room_fqid_2 >>>\n"
     ]
    },
    {
     "data": {
      "text/plain": [
       "frontdesk       0.243263\n",
       "entry           0.169442\n",
       "center          0.114582\n",
       "cage            0.089443\n",
       "stacks          0.068221\n",
       "closet_dirty    0.059664\n",
       "hall            0.045181\n",
       "basement        0.044419\n",
       "halloffame      0.041711\n",
       "microfiche      0.037863\n",
       "Name: room_fqid_2, dtype: float64"
      ]
     },
     "metadata": {},
     "output_type": "display_data"
    },
    {
     "data": {
      "text/plain": [
       "collection_flag    0.017203\n",
       "closet             0.032600\n",
       "collection         0.036407\n",
       "microfiche         0.037863\n",
       "halloffame         0.041711\n",
       "basement           0.044419\n",
       "hall               0.045181\n",
       "closet_dirty       0.059664\n",
       "stacks             0.068221\n",
       "cage               0.089443\n",
       "Name: room_fqid_2, dtype: float64"
      ]
     },
     "metadata": {},
     "output_type": "display_data"
    },
    {
     "name": "stdout",
     "output_type": "stream",
     "text": [
      "text_fqid >>>\n"
     ]
    },
    {
     "data": {
      "text/plain": [
       "tunic.historicalsociety.cage.confrontation                           0.069309\n",
       "tunic.wildlife.center.crane_ranger.crane                             0.048949\n",
       "tunic.historicalsociety.frontdesk.archivist.newspaper                0.044687\n",
       "tunic.historicalsociety.entry.groupconvo                             0.044418\n",
       "tunic.wildlife.center.wells.nodeer                                   0.041589\n",
       "tunic.historicalsociety.frontdesk.archivist.have_glass               0.041062\n",
       "tunic.drycleaner.frontdesk.worker.hub                                0.037733\n",
       "tunic.historicalsociety.closet_dirty.gramps.news                     0.034775\n",
       "tunic.humanecology.frontdesk.worker.intro                            0.031205\n",
       "tunic.historicalsociety.frontdesk.archivist_glasses.confrontation    0.027379\n",
       "Name: text_fqid, dtype: float64"
      ]
     },
     "metadata": {},
     "output_type": "display_data"
    },
    {
     "data": {
      "text/plain": [
       "tunic.drycleaner.frontdesk.block_1          3.119397e-07\n",
       "tunic.humanecology.frontdesk.block_1        1.351739e-06\n",
       "tunic.historicalsociety.entry.gramps.hub    4.055216e-06\n",
       "tunic.drycleaner.frontdesk.block_0          2.297956e-05\n",
       "tunic.capitol_2.hall.chap4_finale_c         2.911437e-05\n",
       "tunic.wildlife.center.fox.concern           3.296163e-05\n",
       "tunic.capitol_1.hall.chap2_finale_c         3.452132e-05\n",
       "tunic.kohlcenter.halloffame.block_0         4.512727e-05\n",
       "tunic.library.frontdesk.block_badge_2       4.980637e-05\n",
       "tunic.capitol_0.hall.chap1_finale_c         5.126209e-05\n",
       "Name: text_fqid, dtype: float64"
      ]
     },
     "metadata": {},
     "output_type": "display_data"
    },
    {
     "name": "stdout",
     "output_type": "stream",
     "text": [
      "level_group >>>\n"
     ]
    },
    {
     "data": {
      "text/plain": [
       "13-22    0.512292\n",
       "5-12     0.336322\n",
       "0-4      0.151387\n",
       "Name: level_group, dtype: float64"
      ]
     },
     "metadata": {},
     "output_type": "display_data"
    },
    {
     "data": {
      "text/plain": [
       "0-4      0.151387\n",
       "5-12     0.336322\n",
       "13-22    0.512292\n",
       "Name: level_group, dtype: float64"
      ]
     },
     "metadata": {},
     "output_type": "display_data"
    }
   ],
   "source": [
    "for c in cols_cat:\n",
    "    print(c, \">>>\")\n",
    "    display(train[c].value_counts(normalize=True).sort_values(ascending=False).head(10))\n",
    "    display(train[c].value_counts(normalize=True).sort_values(ascending=True).head(10))"
   ]
  },
  {
   "attachments": {},
   "cell_type": "markdown",
   "metadata": {},
   "source": [
    "### Numeric\n",
    "\n",
    "\n",
    "- elapsed_time\n",
    "  - 一番重要な特徴量になりそう\n",
    "- level\n",
    "  - 重要そう\n",
    "- page\n",
    "  - null rateが高いのでdrop\n",
    "- room, screen_xy\n",
    "  - これはそのまま特徴量にしてみる"
   ]
  },
  {
   "cell_type": "code",
   "execution_count": 22,
   "metadata": {},
   "outputs": [
    {
     "data": {
      "text/html": [
       "<div>\n",
       "<style scoped>\n",
       "    .dataframe tbody tr th:only-of-type {\n",
       "        vertical-align: middle;\n",
       "    }\n",
       "\n",
       "    .dataframe tbody tr th {\n",
       "        vertical-align: top;\n",
       "    }\n",
       "\n",
       "    .dataframe thead th {\n",
       "        text-align: right;\n",
       "    }\n",
       "</style>\n",
       "<table border=\"1\" class=\"dataframe\">\n",
       "  <thead>\n",
       "    <tr style=\"text-align: right;\">\n",
       "      <th></th>\n",
       "      <th>elapsed_time</th>\n",
       "      <th>level</th>\n",
       "      <th>page</th>\n",
       "      <th>room_coor_x</th>\n",
       "      <th>room_coor_y</th>\n",
       "      <th>screen_coor_x</th>\n",
       "      <th>screen_coor_y</th>\n",
       "      <th>hover_duration</th>\n",
       "      <th>fullscreen</th>\n",
       "      <th>hq</th>\n",
       "      <th>music</th>\n",
       "    </tr>\n",
       "  </thead>\n",
       "  <tbody>\n",
       "    <tr>\n",
       "      <th>count</th>\n",
       "      <td>2.629695e+07</td>\n",
       "      <td>2.629695e+07</td>\n",
       "      <td>564544.000000</td>\n",
       "      <td>2.422367e+07</td>\n",
       "      <td>2.422367e+07</td>\n",
       "      <td>2.422367e+07</td>\n",
       "      <td>2.422367e+07</td>\n",
       "      <td>2.002244e+06</td>\n",
       "      <td>2.629695e+07</td>\n",
       "      <td>2.629695e+07</td>\n",
       "      <td>2.629695e+07</td>\n",
       "    </tr>\n",
       "    <tr>\n",
       "      <th>mean</th>\n",
       "      <td>4.016694e+06</td>\n",
       "      <td>1.219169e+01</td>\n",
       "      <td>3.166559</td>\n",
       "      <td>-5.490579e+01</td>\n",
       "      <td>-1.162119e+02</td>\n",
       "      <td>4.584098e+02</td>\n",
       "      <td>3.855860e+02</td>\n",
       "      <td>3.471003e+03</td>\n",
       "      <td>1.370037e-01</td>\n",
       "      <td>1.202047e-01</td>\n",
       "      <td>9.293778e-01</td>\n",
       "    </tr>\n",
       "    <tr>\n",
       "      <th>std</th>\n",
       "      <td>3.127032e+07</td>\n",
       "      <td>6.497789e+00</td>\n",
       "      <td>2.063291</td>\n",
       "      <td>5.202926e+02</td>\n",
       "      <td>2.184710e+02</td>\n",
       "      <td>2.479389e+02</td>\n",
       "      <td>1.298166e+02</td>\n",
       "      <td>4.602024e+05</td>\n",
       "      <td>3.438513e-01</td>\n",
       "      <td>3.252008e-01</td>\n",
       "      <td>2.561926e-01</td>\n",
       "    </tr>\n",
       "    <tr>\n",
       "      <th>min</th>\n",
       "      <td>0.000000e+00</td>\n",
       "      <td>0.000000e+00</td>\n",
       "      <td>0.000000</td>\n",
       "      <td>-1.992355e+03</td>\n",
       "      <td>-9.181623e+02</td>\n",
       "      <td>0.000000e+00</td>\n",
       "      <td>0.000000e+00</td>\n",
       "      <td>0.000000e+00</td>\n",
       "      <td>0.000000e+00</td>\n",
       "      <td>0.000000e+00</td>\n",
       "      <td>0.000000e+00</td>\n",
       "    </tr>\n",
       "    <tr>\n",
       "      <th>25%</th>\n",
       "      <td>4.397000e+05</td>\n",
       "      <td>6.000000e+00</td>\n",
       "      <td>1.000000</td>\n",
       "      <td>-3.528395e+02</td>\n",
       "      <td>-2.127183e+02</td>\n",
       "      <td>2.690000e+02</td>\n",
       "      <td>3.040000e+02</td>\n",
       "      <td>9.900000e+01</td>\n",
       "      <td>0.000000e+00</td>\n",
       "      <td>0.000000e+00</td>\n",
       "      <td>1.000000e+00</td>\n",
       "    </tr>\n",
       "    <tr>\n",
       "      <th>50%</th>\n",
       "      <td>1.014801e+06</td>\n",
       "      <td>1.300000e+01</td>\n",
       "      <td>3.000000</td>\n",
       "      <td>-1.116280e+01</td>\n",
       "      <td>-9.760534e+01</td>\n",
       "      <td>4.470000e+02</td>\n",
       "      <td>3.970000e+02</td>\n",
       "      <td>4.190000e+02</td>\n",
       "      <td>0.000000e+00</td>\n",
       "      <td>0.000000e+00</td>\n",
       "      <td>1.000000e+00</td>\n",
       "    </tr>\n",
       "    <tr>\n",
       "      <th>75%</th>\n",
       "      <td>1.747040e+06</td>\n",
       "      <td>1.800000e+01</td>\n",
       "      <td>5.000000</td>\n",
       "      <td>2.966515e+02</td>\n",
       "      <td>2.268786e+01</td>\n",
       "      <td>6.630000e+02</td>\n",
       "      <td>4.710000e+02</td>\n",
       "      <td>1.266000e+03</td>\n",
       "      <td>0.000000e+00</td>\n",
       "      <td>0.000000e+00</td>\n",
       "      <td>1.000000e+00</td>\n",
       "    </tr>\n",
       "    <tr>\n",
       "      <th>max</th>\n",
       "      <td>1.988607e+09</td>\n",
       "      <td>2.200000e+01</td>\n",
       "      <td>6.000000</td>\n",
       "      <td>1.261774e+03</td>\n",
       "      <td>5.436164e+02</td>\n",
       "      <td>1.919000e+03</td>\n",
       "      <td>1.440000e+03</td>\n",
       "      <td>2.451637e+08</td>\n",
       "      <td>1.000000e+00</td>\n",
       "      <td>1.000000e+00</td>\n",
       "      <td>1.000000e+00</td>\n",
       "    </tr>\n",
       "  </tbody>\n",
       "</table>\n",
       "</div>"
      ],
      "text/plain": [
       "       elapsed_time         level           page   room_coor_x   room_coor_y  \\\n",
       "count  2.629695e+07  2.629695e+07  564544.000000  2.422367e+07  2.422367e+07   \n",
       "mean   4.016694e+06  1.219169e+01       3.166559 -5.490579e+01 -1.162119e+02   \n",
       "std    3.127032e+07  6.497789e+00       2.063291  5.202926e+02  2.184710e+02   \n",
       "min    0.000000e+00  0.000000e+00       0.000000 -1.992355e+03 -9.181623e+02   \n",
       "25%    4.397000e+05  6.000000e+00       1.000000 -3.528395e+02 -2.127183e+02   \n",
       "50%    1.014801e+06  1.300000e+01       3.000000 -1.116280e+01 -9.760534e+01   \n",
       "75%    1.747040e+06  1.800000e+01       5.000000  2.966515e+02  2.268786e+01   \n",
       "max    1.988607e+09  2.200000e+01       6.000000  1.261774e+03  5.436164e+02   \n",
       "\n",
       "       screen_coor_x  screen_coor_y  hover_duration    fullscreen  \\\n",
       "count   2.422367e+07   2.422367e+07    2.002244e+06  2.629695e+07   \n",
       "mean    4.584098e+02   3.855860e+02    3.471003e+03  1.370037e-01   \n",
       "std     2.479389e+02   1.298166e+02    4.602024e+05  3.438513e-01   \n",
       "min     0.000000e+00   0.000000e+00    0.000000e+00  0.000000e+00   \n",
       "25%     2.690000e+02   3.040000e+02    9.900000e+01  0.000000e+00   \n",
       "50%     4.470000e+02   3.970000e+02    4.190000e+02  0.000000e+00   \n",
       "75%     6.630000e+02   4.710000e+02    1.266000e+03  0.000000e+00   \n",
       "max     1.919000e+03   1.440000e+03    2.451637e+08  1.000000e+00   \n",
       "\n",
       "                 hq         music  \n",
       "count  2.629695e+07  2.629695e+07  \n",
       "mean   1.202047e-01  9.293778e-01  \n",
       "std    3.252008e-01  2.561926e-01  \n",
       "min    0.000000e+00  0.000000e+00  \n",
       "25%    0.000000e+00  1.000000e+00  \n",
       "50%    0.000000e+00  1.000000e+00  \n",
       "75%    0.000000e+00  1.000000e+00  \n",
       "max    1.000000e+00  1.000000e+00  "
      ]
     },
     "execution_count": 22,
     "metadata": {},
     "output_type": "execute_result"
    }
   ],
   "source": [
    "train[cols_num].describe(include=\"number\")"
   ]
  },
  {
   "cell_type": "code",
   "execution_count": 23,
   "metadata": {},
   "outputs": [
    {
     "data": {
      "text/plain": [
       "elapsed_time      0.000000\n",
       "level             0.000000\n",
       "page              0.978532\n",
       "room_coor_x       0.078841\n",
       "room_coor_y       0.078841\n",
       "screen_coor_x     0.078841\n",
       "screen_coor_y     0.078841\n",
       "hover_duration    0.923860\n",
       "fullscreen        0.000000\n",
       "hq                0.000000\n",
       "music             0.000000\n",
       "dtype: float64"
      ]
     },
     "execution_count": 23,
     "metadata": {},
     "output_type": "execute_result"
    }
   ],
   "source": [
    "train[cols_num].isnull().mean()"
   ]
  },
  {
   "cell_type": "code",
   "execution_count": 34,
   "metadata": {},
   "outputs": [
    {
     "data": {
      "text/plain": [
       "elapsed_time       152.592483\n",
       "level               12.191686\n",
       "page                 3.166559\n",
       "room_coor_x        -54.905793\n",
       "room_coor_y       -116.211852\n",
       "screen_coor_x      458.409812\n",
       "screen_coor_y      385.586034\n",
       "hover_duration    3471.003377\n",
       "fullscreen           0.137004\n",
       "hq                   0.120205\n",
       "music                0.929378\n",
       "dtype: float64"
      ]
     },
     "execution_count": 34,
     "metadata": {},
     "output_type": "execute_result"
    }
   ],
   "source": [
    "train[cols_num].mean()"
   ]
  },
  {
   "cell_type": "code",
   "execution_count": 24,
   "metadata": {},
   "outputs": [
    {
     "data": {
      "text/plain": [
       "<AxesSubplot:ylabel='Frequency'>"
      ]
     },
     "execution_count": 24,
     "metadata": {},
     "output_type": "execute_result"
    },
    {
     "data": {
      "image/png": "[encoded data removed]",
      "text/plain": [
       "<Figure size 640x480 with 1 Axes>"
      ]
     },
     "metadata": {},
     "output_type": "display_data"
    }
   ],
   "source": [
    "# NOTE: elapsed_timeはclip(0, 1e7)にする\n",
    "train = train.assign(elapsed_time=lambda x: x[\"elapsed_time\"].clip(0, 1e7) / 10000.0)\n",
    "train.query(\"elapsed_time <= 1e7\")[\"elapsed_time\"].plot(kind=\"hist\", bins=100, xlabel=\"elapsed_time\")"
   ]
  },
  {
   "cell_type": "code",
   "execution_count": 25,
   "metadata": {},
   "outputs": [
    {
     "data": {
      "text/plain": [
       "<AxesSubplot:xlabel='level', ylabel='count'>"
      ]
     },
     "execution_count": 25,
     "metadata": {},
     "output_type": "execute_result"
    },
    {
     "data": {
      "image/png": "[encoded data removed]",
      "text/plain": [
       "<Figure size 640x480 with 1 Axes>"
      ]
     },
     "metadata": {},
     "output_type": "display_data"
    }
   ],
   "source": [
    "train[\"level\"].value_counts().sort_index().plot(kind=\"bar\", xlabel=\"level\", ylabel=\"count\")"
   ]
  },
  {
   "cell_type": "code",
   "execution_count": 26,
   "metadata": {},
   "outputs": [
    {
     "data": {
      "text/plain": [
       "<AxesSubplot:ylabel='Frequency'>"
      ]
     },
     "execution_count": 26,
     "metadata": {},
     "output_type": "execute_result"
    },
    {
     "data": {
      "image/png": "[encoded data removed]",
      "text/plain": [
       "<Figure size 640x480 with 1 Axes>"
      ]
     },
     "metadata": {},
     "output_type": "display_data"
    }
   ],
   "source": [
    "train[[\"room_coor_x\", \"room_coor_y\"]].plot(kind=\"hist\", bins=100, xlabel=\"room_coor\", ylabel=\"count\", alpha=0.8)"
   ]
  },
  {
   "cell_type": "code",
   "execution_count": 27,
   "metadata": {},
   "outputs": [
    {
     "data": {
      "text/plain": [
       "<AxesSubplot:ylabel='Frequency'>"
      ]
     },
     "execution_count": 27,
     "metadata": {},
     "output_type": "execute_result"
    },
    {
     "data": {
      "image/png": "[encoded data removed]",
      "text/plain": [
       "<Figure size 640x480 with 1 Axes>"
      ]
     },
     "metadata": {},
     "output_type": "display_data"
    }
   ],
   "source": [
    "train[[\"screen_coor_x\", \"screen_coor_y\"]].plot(kind=\"hist\", bins=100, xlabel=\"screen_coor\", ylabel=\"count\", alpha=0.8)"
   ]
  },
  {
   "cell_type": "code",
   "execution_count": 28,
   "metadata": {},
   "outputs": [
    {
     "data": {
      "text/plain": [
       "tunic.historicalsociety.entry              123\n",
       "tunic.wildlife.center                      104\n",
       "tunic.historicalsociety.cage                83\n",
       "tunic.historicalsociety.frontdesk           73\n",
       "tunic.library.frontdesk                     58\n",
       "tunic.historicalsociety.basement            53\n",
       "tunic.historicalsociety.closet_dirty        50\n",
       "tunic.historicalsociety.closet              47\n",
       "tunic.humanecology.frontdesk                44\n",
       "tunic.historicalsociety.stacks              42\n",
       "tunic.drycleaner.frontdesk                  33\n",
       "tunic.kohlcenter.halloffame                 33\n",
       "tunic.flaghouse.entry                       32\n",
       "tunic.historicalsociety.collection          30\n",
       "tunic.library.microfiche                    28\n",
       "tunic.capitol_1.hall                        23\n",
       "tunic.historicalsociety.collection_flag     12\n",
       "tunic.capitol_0.hall                        11\n",
       "tunic.capitol_2.hall                         2\n",
       "Name: room_fqid, dtype: int64"
      ]
     },
     "execution_count": 28,
     "metadata": {},
     "output_type": "execute_result"
    }
   ],
   "source": [
    "s_id = 20090312431273200\n",
    "train.query(\"session_id==@s_id\")[\"room_fqid\"].value_counts()"
   ]
  },
  {
   "cell_type": "code",
   "execution_count": 29,
   "metadata": {},
   "outputs": [
    {
     "data": {
      "text/plain": [
       "1    0.705635\n",
       "0    0.294365\n",
       "Name: correct, dtype: float64"
      ]
     },
     "execution_count": 29,
     "metadata": {},
     "output_type": "execute_result"
    }
   ],
   "source": [
    "train_labels[\"correct\"].value_counts(normalize=True)"
   ]
  },
  {
   "attachments": {},
   "cell_type": "markdown",
   "metadata": {},
   "source": [
    "## Count rows groupby session id"
   ]
  },
  {
   "cell_type": "code",
   "execution_count": 30,
   "metadata": {},
   "outputs": [
    {
     "data": {
      "text/plain": [
       "<AxesSubplot:ylabel='Frequency'>"
      ]
     },
     "execution_count": 30,
     "metadata": {},
     "output_type": "execute_result"
    },
    {
     "data": {
      "image/png": "[encoded data removed]",
      "text/plain": [
       "<Figure size 640x480 with 1 Axes>"
      ]
     },
     "metadata": {},
     "output_type": "display_data"
    }
   ],
   "source": [
    "train.groupby(\"session_id\")[\"index\"].max().plot(kind=\"hist\", bins=100, ylabel=\"count\")"
   ]
  },
  {
   "cell_type": "code",
   "execution_count": 31,
   "metadata": {},
   "outputs": [
    {
     "data": {
      "text/plain": [
       "<AxesSubplot:xlabel='level', ylabel='count'>"
      ]
     },
     "execution_count": 31,
     "metadata": {},
     "output_type": "execute_result"
    },
    {
     "data": {
      "image/png": "[encoded data removed]",
      "text/plain": [
       "<Figure size 640x480 with 1 Axes>"
      ]
     },
     "metadata": {},
     "output_type": "display_data"
    }
   ],
   "source": [
    "train.groupby(\"session_id\")[\"level\"].max().value_counts().sort_index().plot(kind=\"bar\", xlabel=\"level\", ylabel=\"count\")"
   ]
  },
  {
   "cell_type": "code",
   "execution_count": 32,
   "metadata": {},
   "outputs": [
    {
     "data": {
      "text/plain": [
       "<AxesSubplot:xlabel='level', ylabel='count'>"
      ]
     },
     "execution_count": 32,
     "metadata": {},
     "output_type": "execute_result"
    },
    {
     "data": {
      "image/png": "[encoded data removed]",
      "text/plain": [
       "<Figure size 640x480 with 1 Axes>"
      ]
     },
     "metadata": {},
     "output_type": "display_data"
    }
   ],
   "source": [
    "train.groupby(\"session_id\")[\"level\"].min().value_counts().sort_index().plot(kind=\"bar\", xlabel=\"level\", ylabel=\"count\")"
   ]
  },
  {
   "cell_type": "code",
   "execution_count": null,
   "metadata": {},
   "outputs": [],
   "source": []
  }
 ],
 "metadata": {
  "kernelspec": {
   "display_name": "base",
   "language": "python",
   "name": "python3"
  },
  "language_info": {
   "codemirror_mode": {
    "name": "ipython",
    "version": 3
   },
   "file_extension": ".py",
   "mimetype": "text/x-python",
   "name": "python",
   "nbconvert_exporter": "python",
   "pygments_lexer": "ipython3",
   "version": "3.7.12"
  },
  "orig_nbformat": 4
 },
 "nbformat": 4,
 "nbformat_minor": 2
}

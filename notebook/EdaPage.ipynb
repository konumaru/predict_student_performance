{
 "cells": [
  {
   "cell_type": "code",
   "execution_count": 2,
   "metadata": {},
   "outputs": [],
   "source": [
    "import sys\n",
    "\n",
    "sys.path.append(\"../src/\")\n",
    "\n",
    "import pathlib\n",
    "\n",
    "import numpy as np\n",
    "import pandas as pd\n",
    "import matplotlib.pyplot as plt\n",
    "\n",
    "%matplotlib inline"
   ]
  },
  {
   "cell_type": "code",
   "execution_count": 3,
   "metadata": {},
   "outputs": [],
   "source": [
    "input_dir = pathlib.Path(\"../data/raw\")\n",
    "\n",
    "train = pd.read_csv(input_dir / \"train.csv\")"
   ]
  },
  {
   "cell_type": "code",
   "execution_count": 8,
   "metadata": {},
   "outputs": [
    {
     "data": {
      "text/plain": [
       "0.0     73485\n",
       "1.0     99900\n",
       "2.0     48483\n",
       "3.0     62565\n",
       "4.0     88197\n",
       "5.0    101171\n",
       "6.0     90743\n",
       "Name: page, dtype: int64"
      ]
     },
     "execution_count": 8,
     "metadata": {},
     "output_type": "execute_result"
    }
   ],
   "source": [
    "train[\"page\"].value_counts().sort_index()"
   ]
  },
  {
   "cell_type": "code",
   "execution_count": 9,
   "metadata": {},
   "outputs": [
    {
     "data": {
      "text/plain": [
       "0.9785319557639888"
      ]
     },
     "execution_count": 9,
     "metadata": {},
     "output_type": "execute_result"
    }
   ],
   "source": [
    "train[\"page\"].isnull().mean()"
   ]
  },
  {
   "cell_type": "code",
   "execution_count": 10,
   "metadata": {},
   "outputs": [
    {
     "data": {
      "text/plain": [
       "level_group  page\n",
       "0-4          0.0      65446\n",
       "             1.0      16287\n",
       "13-22        0.0       3372\n",
       "             1.0       2806\n",
       "             2.0       3195\n",
       "             3.0      11184\n",
       "             4.0      88197\n",
       "             5.0     101171\n",
       "             6.0      90743\n",
       "5-12         0.0       4667\n",
       "             1.0      80807\n",
       "             2.0      45288\n",
       "             3.0      51381\n",
       "Name: page, dtype: int64"
      ]
     },
     "execution_count": 10,
     "metadata": {},
     "output_type": "execute_result"
    }
   ],
   "source": [
    "train.groupby(\"level_group\")[\"page\"].value_counts().sort_index()"
   ]
  },
  {
   "cell_type": "code",
   "execution_count": 11,
   "metadata": {},
   "outputs": [],
   "source": [
    "import polars as pl\n",
    "\n",
    "\n",
    "train_pl = pl.from_pandas(train)"
   ]
  },
  {
   "cell_type": "code",
   "execution_count": 13,
   "metadata": {},
   "outputs": [
    {
     "data": {
      "text/html": [
       "<div><style>\n",
       ".dataframe > thead > tr > th,\n",
       ".dataframe > tbody > tr > td {\n",
       "  text-align: right;\n",
       "}\n",
       "</style>\n",
       "<small>shape: (26296946,)</small><table border=\"1\" class=\"dataframe\"><thead><tr><th>page</th></tr><tr><td>str</td></tr></thead><tbody><tr><td>&quot;null&quot;</td></tr><tr><td>&quot;null&quot;</td></tr><tr><td>&quot;null&quot;</td></tr><tr><td>&quot;null&quot;</td></tr><tr><td>&quot;null&quot;</td></tr><tr><td>&quot;null&quot;</td></tr><tr><td>&quot;null&quot;</td></tr><tr><td>&quot;null&quot;</td></tr><tr><td>&quot;null&quot;</td></tr><tr><td>&quot;null&quot;</td></tr><tr><td>&quot;null&quot;</td></tr><tr><td>&quot;null&quot;</td></tr><tr><td>&hellip;</td></tr><tr><td>&quot;6.0&quot;</td></tr><tr><td>&quot;6.0&quot;</td></tr><tr><td>&quot;null&quot;</td></tr><tr><td>&quot;null&quot;</td></tr><tr><td>&quot;null&quot;</td></tr><tr><td>&quot;null&quot;</td></tr><tr><td>&quot;null&quot;</td></tr><tr><td>&quot;null&quot;</td></tr><tr><td>&quot;null&quot;</td></tr><tr><td>&quot;null&quot;</td></tr><tr><td>&quot;null&quot;</td></tr><tr><td>&quot;null&quot;</td></tr></tbody></table></div>"
      ],
      "text/plain": [
       "shape: (26_296_946,)\n",
       "Series: 'page' [str]\n",
       "[\n",
       "\t\"null\"\n",
       "\t\"null\"\n",
       "\t\"null\"\n",
       "\t\"null\"\n",
       "\t\"null\"\n",
       "\t\"null\"\n",
       "\t\"null\"\n",
       "\t\"null\"\n",
       "\t\"null\"\n",
       "\t\"null\"\n",
       "\t\"null\"\n",
       "\t\"null\"\n",
       "\t…\n",
       "\t\"6.0\"\n",
       "\t\"6.0\"\n",
       "\t\"6.0\"\n",
       "\t\"null\"\n",
       "\t\"null\"\n",
       "\t\"null\"\n",
       "\t\"null\"\n",
       "\t\"null\"\n",
       "\t\"null\"\n",
       "\t\"null\"\n",
       "\t\"null\"\n",
       "\t\"null\"\n",
       "\t\"null\"\n",
       "]"
      ]
     },
     "execution_count": 13,
     "metadata": {},
     "output_type": "execute_result"
    }
   ],
   "source": [
    "train_pl[\"page\"].cast(pl.Utf8).fill_null(\"null\")"
   ]
  },
  {
   "cell_type": "code",
   "execution_count": null,
   "metadata": {},
   "outputs": [],
   "source": []
  }
 ],
 "metadata": {
  "kernelspec": {
   "display_name": "base",
   "language": "python",
   "name": "python3"
  },
  "language_info": {
   "codemirror_mode": {
    "name": "ipython",
    "version": 3
   },
   "file_extension": ".py",
   "mimetype": "text/x-python",
   "name": "python",
   "nbconvert_exporter": "python",
   "pygments_lexer": "ipython3",
   "version": "3.10.10"
  },
  "orig_nbformat": 4
 },
 "nbformat": 4,
 "nbformat_minor": 2
}

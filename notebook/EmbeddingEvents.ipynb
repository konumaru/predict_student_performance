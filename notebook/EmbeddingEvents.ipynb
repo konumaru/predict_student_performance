{
 "cells": [
  {
   "cell_type": "code",
   "execution_count": 2,
   "metadata": {},
   "outputs": [
    {
     "name": "stderr",
     "output_type": "stream",
     "text": [
      "/tmp/ipykernel_15867/1669165000.py:34: MatplotlibDeprecationWarning: The seaborn styles shipped by Matplotlib are deprecated since 3.6, as they no longer correspond to the styles shipped by seaborn. However, they will remain available as 'seaborn-v0_8-<style>'. Alternatively, directly use the seaborn API instead.\n",
      "  plt.style.use(\"seaborn-darkgrid\")\n"
     ]
    }
   ],
   "source": [
    "import sys\n",
    "\n",
    "sys.path.append(\"../src/\")\n",
    "\n",
    "import os\n",
    "import pathlib\n",
    "import itertools\n",
    "from collections import defaultdict\n",
    "from typing import Any, Dict, Optional, Union, List\n",
    "\n",
    "import gensim\n",
    "import numpy as np\n",
    "import pandas as pd\n",
    "import polars as pl\n",
    "import seaborn as sns\n",
    "import xgboost\n",
    "import lightgbm\n",
    "import matplotlib.pyplot as plt\n",
    "from annoy import AnnoyIndex\n",
    "from xgboost import XGBClassifier\n",
    "from rich.progress import track\n",
    "from gensim.models import KeyedVectors\n",
    "from gensim.test.utils import common_texts\n",
    "from gensim.similarities.annoy import AnnoyIndexer\n",
    "from gensim.models import Word2Vec\n",
    "\n",
    "from utils import timer\n",
    "from utils.io import load_pickle, save_pickle, save_txt\n",
    "\n",
    "%matplotlib inline\n",
    "\n",
    "\n",
    "sns.set_style(\"darkgrid\")\n",
    "plt.style.use(\"seaborn-darkgrid\")\n",
    "\n",
    "pd.options.display.max_rows = 100\n",
    "pd.options.display.max_columns = 500 "
   ]
  },
  {
   "attachments": {},
   "cell_type": "markdown",
   "metadata": {},
   "source": [
    "### やりたいこと\n",
    "- groupごとに埋め込みたいidのリストを作成する。これをsentencesと呼ぶ\n",
    "- sentencesをgensim.models.Word2Vecを使ってEmbeddingを作成する\n",
    "- どうやってEmbedding評価する？\n",
    "- 利用したい方法でEmbeddingを使えるか確かめる\n",
    "  - 今回はsession_id, level_groupごとにfqidやtextなどの系列を最新を重視するように時系列に重みをつけて平均化する"
   ]
  },
  {
   "cell_type": "code",
   "execution_count": 3,
   "metadata": {},
   "outputs": [],
   "source": [
    "train  = pl.read_parquet(\"../data/preprocessing/train.parquet\")"
   ]
  },
  {
   "cell_type": "code",
   "execution_count": 4,
   "metadata": {},
   "outputs": [
    {
     "data": {
      "text/html": [
       "<div><style>\n",
       ".dataframe > thead > tr > th,\n",
       ".dataframe > tbody > tr > td {\n",
       "  text-align: right;\n",
       "}\n",
       "</style>\n",
       "<small>shape: (5, 20)</small><table border=\"1\" class=\"dataframe\"><thead><tr><th>session_id</th><th>index</th><th>elapsed_time</th><th>event_name</th><th>name</th><th>level</th><th>page</th><th>room_coor_x</th><th>room_coor_y</th><th>screen_coor_x</th><th>screen_coor_y</th><th>hover_duration</th><th>text</th><th>fqid</th><th>room_fqid</th><th>text_fqid</th><th>fullscreen</th><th>hq</th><th>music</th><th>level_group</th></tr><tr><td>i64</td><td>i64</td><td>i64</td><td>str</td><td>str</td><td>str</td><td>str</td><td>f64</td><td>f64</td><td>f64</td><td>f64</td><td>f64</td><td>str</td><td>str</td><td>str</td><td>str</td><td>i64</td><td>i64</td><td>i64</td><td>str</td></tr></thead><tbody><tr><td>20090312431273200</td><td>0</td><td>0</td><td>&quot;cutscene_click…</td><td>&quot;basic&quot;</td><td>&quot;0&quot;</td><td>null</td><td>-413.991405</td><td>-159.314686</td><td>380.0</td><td>494.0</td><td>null</td><td>&quot;undefined&quot;</td><td>&quot;intro&quot;</td><td>&quot;tunic.historic…</td><td>&quot;tunic.historic…</td><td>0</td><td>0</td><td>1</td><td>&quot;0-4&quot;</td></tr><tr><td>20090312431273200</td><td>1</td><td>1323</td><td>&quot;person_click&quot;</td><td>&quot;basic&quot;</td><td>&quot;0&quot;</td><td>null</td><td>-413.991405</td><td>-159.314686</td><td>380.0</td><td>494.0</td><td>null</td><td>&quot;Whatcha doing …</td><td>&quot;gramps&quot;</td><td>&quot;tunic.historic…</td><td>&quot;tunic.historic…</td><td>0</td><td>0</td><td>1</td><td>&quot;0-4&quot;</td></tr><tr><td>20090312431273200</td><td>2</td><td>831</td><td>&quot;person_click&quot;</td><td>&quot;basic&quot;</td><td>&quot;0&quot;</td><td>null</td><td>-413.991405</td><td>-159.314686</td><td>380.0</td><td>494.0</td><td>null</td><td>&quot;Just talking t…</td><td>&quot;gramps&quot;</td><td>&quot;tunic.historic…</td><td>&quot;tunic.historic…</td><td>0</td><td>0</td><td>1</td><td>&quot;0-4&quot;</td></tr><tr><td>20090312431273200</td><td>3</td><td>1147</td><td>&quot;person_click&quot;</td><td>&quot;basic&quot;</td><td>&quot;0&quot;</td><td>null</td><td>-413.991405</td><td>-159.314686</td><td>380.0</td><td>494.0</td><td>null</td><td>&quot;I gotta run to…</td><td>&quot;gramps&quot;</td><td>&quot;tunic.historic…</td><td>&quot;tunic.historic…</td><td>0</td><td>0</td><td>1</td><td>&quot;0-4&quot;</td></tr><tr><td>20090312431273200</td><td>4</td><td>1863</td><td>&quot;person_click&quot;</td><td>&quot;basic&quot;</td><td>&quot;0&quot;</td><td>null</td><td>-412.991405</td><td>-159.314686</td><td>381.0</td><td>494.0</td><td>null</td><td>&quot;Can I come, Gr…</td><td>&quot;gramps&quot;</td><td>&quot;tunic.historic…</td><td>&quot;tunic.historic…</td><td>0</td><td>0</td><td>1</td><td>&quot;0-4&quot;</td></tr></tbody></table></div>"
      ],
      "text/plain": [
       "shape: (5, 20)\n",
       "┌───────────────┬───────┬──────────────┬──────────────┬───┬────────────┬─────┬───────┬─────────────┐\n",
       "│ session_id    ┆ index ┆ elapsed_time ┆ event_name   ┆ … ┆ fullscreen ┆ hq  ┆ music ┆ level_group │\n",
       "│ ---           ┆ ---   ┆ ---          ┆ ---          ┆   ┆ ---        ┆ --- ┆ ---   ┆ ---         │\n",
       "│ i64           ┆ i64   ┆ i64          ┆ str          ┆   ┆ i64        ┆ i64 ┆ i64   ┆ str         │\n",
       "╞═══════════════╪═══════╪══════════════╪══════════════╪═══╪════════════╪═════╪═══════╪═════════════╡\n",
       "│ 2009031243127 ┆ 0     ┆ 0            ┆ cutscene_cli ┆ … ┆ 0          ┆ 0   ┆ 1     ┆ 0-4         │\n",
       "│ 3200          ┆       ┆              ┆ ck           ┆   ┆            ┆     ┆       ┆             │\n",
       "│ 2009031243127 ┆ 1     ┆ 1323         ┆ person_click ┆ … ┆ 0          ┆ 0   ┆ 1     ┆ 0-4         │\n",
       "│ 3200          ┆       ┆              ┆              ┆   ┆            ┆     ┆       ┆             │\n",
       "│ 2009031243127 ┆ 2     ┆ 831          ┆ person_click ┆ … ┆ 0          ┆ 0   ┆ 1     ┆ 0-4         │\n",
       "│ 3200          ┆       ┆              ┆              ┆   ┆            ┆     ┆       ┆             │\n",
       "│ 2009031243127 ┆ 3     ┆ 1147         ┆ person_click ┆ … ┆ 0          ┆ 0   ┆ 1     ┆ 0-4         │\n",
       "│ 3200          ┆       ┆              ┆              ┆   ┆            ┆     ┆       ┆             │\n",
       "│ 2009031243127 ┆ 4     ┆ 1863         ┆ person_click ┆ … ┆ 0          ┆ 0   ┆ 1     ┆ 0-4         │\n",
       "│ 3200          ┆       ┆              ┆              ┆   ┆            ┆     ┆       ┆             │\n",
       "└───────────────┴───────┴──────────────┴──────────────┴───┴────────────┴─────┴───────┴─────────────┘"
      ]
     },
     "execution_count": 4,
     "metadata": {},
     "output_type": "execute_result"
    }
   ],
   "source": [
    "train.head()"
   ]
  },
  {
   "cell_type": "code",
   "execution_count": 5,
   "metadata": {},
   "outputs": [
    {
     "name": "stdout",
     "output_type": "stream",
     "text": [
      "n_unique of text: 598\n",
      "0.6342868483663464\n",
      "n_unique of fqid: 129\n",
      "0.31465307796578357\n",
      "n_unique of room_fqid: 19\n",
      "0.0\n",
      "n_unique of text_fqid: 127\n",
      "0.6342828555072517\n"
     ]
    }
   ],
   "source": [
    "target_cols = [\"text\", \"fqid\", \"room_fqid\", \"text_fqid\"]\n",
    "\n",
    "\n",
    "for col in target_cols:\n",
    "    num_unique = train[col].n_unique()\n",
    "    print(f\"n_unique of {col}: {num_unique}\")\n",
    "    print(train[col].is_null().mean())"
   ]
  },
  {
   "attachments": {},
   "cell_type": "markdown",
   "metadata": {},
   "source": [
    "現状textのみ、特徴量としてうまく使えていない状況なのでtextに限定して試してみる"
   ]
  },
  {
   "cell_type": "code",
   "execution_count": 10,
   "metadata": {},
   "outputs": [
    {
     "name": "stdout",
     "output_type": "stream",
     "text": [
      "CPU times: user 53.8 s, sys: 3.09 s, total: 56.8 s\n",
      "Wall time: 27.2 s\n"
     ]
    }
   ],
   "source": [
    "%%time\n",
    "\n",
    "target_col = \"text\"\n",
    "sentences = train.groupby(\"session_id\").agg(pl.col(target_col))[target_col].to_list()\n",
    "\n",
    "model = Word2Vec(sentences=sentences, vector_size=16, min_count=1, workers=4)"
   ]
  },
  {
   "cell_type": "code",
   "execution_count": null,
   "metadata": {},
   "outputs": [],
   "source": [
    "uniques = list(itertools.chain.from_iterable(sentences))"
   ]
  },
  {
   "cell_type": "code",
   "execution_count": 1,
   "metadata": {},
   "outputs": [
    {
     "ename": "NameError",
     "evalue": "name 'model' is not defined",
     "output_type": "error",
     "traceback": [
      "\u001b[0;31m---------------------------------------------------------------------------\u001b[0m",
      "\u001b[0;31mNameError\u001b[0m                                 Traceback (most recent call last)",
      "Cell \u001b[0;32mIn[1], line 2\u001b[0m\n\u001b[1;32m      1\u001b[0m \u001b[39m# save model\u001b[39;00m\n\u001b[0;32m----> 2\u001b[0m model\u001b[39m.\u001b[39mwv\u001b[39m.\u001b[39msave(\u001b[39mf\u001b[39m\u001b[39m\"\u001b[39m\u001b[39m./wv_\u001b[39m\u001b[39m{\u001b[39;00mtarget_col\u001b[39m}\u001b[39;00m\u001b[39m.wv\u001b[39m\u001b[39m\"\u001b[39m)\n\u001b[1;32m      4\u001b[0m \u001b[39m# load model\u001b[39;00m\n\u001b[1;32m      5\u001b[0m wv \u001b[39m=\u001b[39m KeyedVectors\u001b[39m.\u001b[39mload(\u001b[39mf\u001b[39m\u001b[39m\"\u001b[39m\u001b[39m./wv_\u001b[39m\u001b[39m{\u001b[39;00mtarget_col\u001b[39m}\u001b[39;00m\u001b[39m.wv\u001b[39m\u001b[39m\"\u001b[39m, mmap\u001b[39m=\u001b[39m\u001b[39m\"\u001b[39m\u001b[39mr\u001b[39m\u001b[39m\"\u001b[39m)\n",
      "\u001b[0;31mNameError\u001b[0m: name 'model' is not defined"
     ]
    }
   ],
   "source": [
    "# save model\n",
    "model.wv.save(f\"./wv_{target_col}.wv\")\n",
    "\n",
    "# load model\n",
    "wv = KeyedVectors.load(f\"./wv_{target_col}.wv\", mmap=\"r\")\n",
    "\n",
    "!rm ./wv_text.wv"
   ]
  },
  {
   "cell_type": "code",
   "execution_count": 21,
   "metadata": {},
   "outputs": [],
   "source": [
    "path = \"../data/preprocessing/wv_text.wv\"\n",
    "wv = KeyedVectors.load(path, mmap=\"r\")"
   ]
  },
  {
   "cell_type": "code",
   "execution_count": 22,
   "metadata": {},
   "outputs": [
    {
     "ename": "NameError",
     "evalue": "name 'uniques' is not defined",
     "output_type": "error",
     "traceback": [
      "\u001b[0;31m---------------------------------------------------------------------------\u001b[0m",
      "\u001b[0;31mNameError\u001b[0m                                 Traceback (most recent call last)",
      "Cell \u001b[0;32mIn[22], line 1\u001b[0m\n\u001b[0;32m----> 1\u001b[0m \u001b[39mfor\u001b[39;00m u \u001b[39min\u001b[39;00m uniques[:\u001b[39m5\u001b[39m]:\n\u001b[1;32m      2\u001b[0m     \u001b[39mprint\u001b[39m(\u001b[39m\"\u001b[39m\u001b[39mQuery item:\u001b[39m\u001b[39m\"\u001b[39m, u, )\n\u001b[1;32m      3\u001b[0m     \u001b[39mfor\u001b[39;00m s \u001b[39min\u001b[39;00m wv\u001b[39m.\u001b[39mmost_similar(u, topn\u001b[39m=\u001b[39m\u001b[39m5\u001b[39m):\n",
      "\u001b[0;31mNameError\u001b[0m: name 'uniques' is not defined"
     ]
    }
   ],
   "source": [
    "for u in uniques[:5]:\n",
    "    print(\"Query item:\", u, )\n",
    "    for s in wv.most_similar(u, topn=5):\n",
    "        print(\"\\t\", s)\n",
    "    print()"
   ]
  },
  {
   "cell_type": "code",
   "execution_count": 24,
   "metadata": {},
   "outputs": [
    {
     "data": {
      "text/plain": [
       "[None,\n",
       " 'undefined',\n",
       " '\\\\u00f0\\\\u0178\\\\u02dc\\\\u0090',\n",
       " 'Hey!',\n",
       " 'I should go to the Capitol and tell Mrs. M!',\n",
       " 'This is perfect for the exhibit.',\n",
       " 'Look at all those activists!',\n",
       " \"If I were you, I'd go to the library and do some digging.\",\n",
       " 'Ugh. Fine.',\n",
       " '\\\\u00f0\\\\u0178\\\\u02dc\\\\u00b4']"
      ]
     },
     "execution_count": 24,
     "metadata": {},
     "output_type": "execute_result"
    }
   ],
   "source": [
    "wv.index_to_key[:10]"
   ]
  },
  {
   "cell_type": "code",
   "execution_count": 25,
   "metadata": {},
   "outputs": [],
   "source": [
    "def pad_list(l: list, max_len: int, pad_value: Any) -> list:\n",
    "    return l + [pad_value] * (max_len - len(l))\n",
    "\n",
    "\n",
    "def empty_to_list(s: List) -> List:\n",
    "    return s if s else []"
   ]
  },
  {
   "cell_type": "code",
   "execution_count": 26,
   "metadata": {},
   "outputs": [
    {
     "data": {
      "text/html": [
       "<div><style>\n",
       ".dataframe > thead > tr > th,\n",
       ".dataframe > tbody > tr > td {\n",
       "  text-align: right;\n",
       "}\n",
       "</style>\n",
       "<small>shape: (23562, 8)</small><table border=\"1\" class=\"dataframe\"><thead><tr><th>text_embedding_0</th><th>text_embedding_1</th><th>text_embedding_2</th><th>text_embedding_3</th><th>text_embedding_4</th><th>text_embedding_5</th><th>text_embedding_6</th><th>text_embedding_7</th></tr><tr><td>f64</td><td>f64</td><td>f64</td><td>f64</td><td>f64</td><td>f64</td><td>f64</td><td>f64</td></tr></thead><tbody><tr><td>0.179691</td><td>0.017425</td><td>-0.256541</td><td>0.55113</td><td>0.554639</td><td>0.154368</td><td>-0.478286</td><td>-0.194006</td></tr><tr><td>0.179691</td><td>0.017425</td><td>-0.256541</td><td>0.55113</td><td>0.554639</td><td>0.154368</td><td>-0.478286</td><td>-0.194006</td></tr><tr><td>0.179691</td><td>0.017425</td><td>-0.256541</td><td>0.55113</td><td>0.554639</td><td>0.154368</td><td>-0.478286</td><td>-0.194006</td></tr><tr><td>0.179691</td><td>0.017425</td><td>-0.256541</td><td>0.55113</td><td>0.554639</td><td>0.154368</td><td>-0.478286</td><td>-0.194006</td></tr><tr><td>0.179691</td><td>0.017425</td><td>-0.256541</td><td>0.55113</td><td>0.554639</td><td>0.154368</td><td>-0.478286</td><td>-0.194006</td></tr><tr><td>0.179691</td><td>0.017425</td><td>-0.256541</td><td>0.55113</td><td>0.554639</td><td>0.154368</td><td>-0.478286</td><td>-0.194006</td></tr><tr><td>0.179691</td><td>0.017425</td><td>-0.256541</td><td>0.55113</td><td>0.554639</td><td>0.154368</td><td>-0.478286</td><td>-0.194006</td></tr><tr><td>0.179691</td><td>0.017425</td><td>-0.256541</td><td>0.55113</td><td>0.554639</td><td>0.154368</td><td>-0.478286</td><td>-0.194006</td></tr><tr><td>0.179691</td><td>0.017425</td><td>-0.256541</td><td>0.55113</td><td>0.554639</td><td>0.154368</td><td>-0.478286</td><td>-0.194006</td></tr><tr><td>0.179691</td><td>0.017425</td><td>-0.256541</td><td>0.55113</td><td>0.554639</td><td>0.154368</td><td>-0.478286</td><td>-0.194006</td></tr><tr><td>0.179691</td><td>0.017425</td><td>-0.256541</td><td>0.55113</td><td>0.554639</td><td>0.154368</td><td>-0.478286</td><td>-0.194006</td></tr><tr><td>0.181459</td><td>0.035466</td><td>-0.299143</td><td>0.517854</td><td>0.550888</td><td>0.148984</td><td>-0.437802</td><td>-0.139192</td></tr><tr><td>&hellip;</td><td>&hellip;</td><td>&hellip;</td><td>&hellip;</td><td>&hellip;</td><td>&hellip;</td><td>&hellip;</td><td>&hellip;</td></tr><tr><td>0.179691</td><td>0.017425</td><td>-0.256541</td><td>0.55113</td><td>0.554639</td><td>0.154368</td><td>-0.478286</td><td>-0.194006</td></tr><tr><td>0.179691</td><td>0.017425</td><td>-0.256541</td><td>0.55113</td><td>0.554639</td><td>0.154368</td><td>-0.478286</td><td>-0.194006</td></tr><tr><td>0.179691</td><td>0.017425</td><td>-0.256541</td><td>0.55113</td><td>0.554639</td><td>0.154368</td><td>-0.478286</td><td>-0.194006</td></tr><tr><td>0.179691</td><td>0.017425</td><td>-0.256541</td><td>0.55113</td><td>0.554639</td><td>0.154368</td><td>-0.478286</td><td>-0.194006</td></tr><tr><td>0.179691</td><td>0.017425</td><td>-0.256541</td><td>0.55113</td><td>0.554639</td><td>0.154368</td><td>-0.478286</td><td>-0.194006</td></tr><tr><td>0.179691</td><td>0.017425</td><td>-0.256541</td><td>0.55113</td><td>0.554639</td><td>0.154368</td><td>-0.478286</td><td>-0.194006</td></tr><tr><td>0.179691</td><td>0.017425</td><td>-0.256541</td><td>0.55113</td><td>0.554639</td><td>0.154368</td><td>-0.478286</td><td>-0.194006</td></tr><tr><td>0.179691</td><td>0.017425</td><td>-0.256541</td><td>0.55113</td><td>0.554639</td><td>0.154368</td><td>-0.478286</td><td>-0.194006</td></tr><tr><td>0.179691</td><td>0.017425</td><td>-0.256541</td><td>0.55113</td><td>0.554639</td><td>0.154368</td><td>-0.478286</td><td>-0.194006</td></tr><tr><td>0.179691</td><td>0.017425</td><td>-0.256541</td><td>0.55113</td><td>0.554639</td><td>0.154368</td><td>-0.478286</td><td>-0.194006</td></tr><tr><td>0.179691</td><td>0.017425</td><td>-0.256541</td><td>0.55113</td><td>0.554639</td><td>0.154368</td><td>-0.478286</td><td>-0.194006</td></tr><tr><td>0.179691</td><td>0.017425</td><td>-0.256541</td><td>0.55113</td><td>0.554639</td><td>0.154368</td><td>-0.478286</td><td>-0.194006</td></tr></tbody></table></div>"
      ],
      "text/plain": [
       "shape: (23_562, 8)\n",
       "┌────────────┬────────────┬────────────┬────────────┬────────────┬────────────┬────────────┬────────────┐\n",
       "│ text_embed ┆ text_embed ┆ text_embed ┆ text_embed ┆ text_embed ┆ text_embed ┆ text_embed ┆ text_embed │\n",
       "│ ding_0     ┆ ding_1     ┆ ding_2     ┆ ding_3     ┆ ding_4     ┆ ding_5     ┆ ding_6     ┆ ding_7     │\n",
       "│ ---        ┆ ---        ┆ ---        ┆ ---        ┆ ---        ┆ ---        ┆ ---        ┆ ---        │\n",
       "│ f64        ┆ f64        ┆ f64        ┆ f64        ┆ f64        ┆ f64        ┆ f64        ┆ f64        │\n",
       "╞════════════╪════════════╪════════════╪════════════╪════════════╪════════════╪════════════╪════════════╡\n",
       "│ 0.179691   ┆ 0.017425   ┆ -0.256541  ┆ 0.55113    ┆ 0.554639   ┆ 0.154368   ┆ -0.478286  ┆ -0.194006  │\n",
       "│ 0.179691   ┆ 0.017425   ┆ -0.256541  ┆ 0.55113    ┆ 0.554639   ┆ 0.154368   ┆ -0.478286  ┆ -0.194006  │\n",
       "│ 0.179691   ┆ 0.017425   ┆ -0.256541  ┆ 0.55113    ┆ 0.554639   ┆ 0.154368   ┆ -0.478286  ┆ -0.194006  │\n",
       "│ 0.179691   ┆ 0.017425   ┆ -0.256541  ┆ 0.55113    ┆ 0.554639   ┆ 0.154368   ┆ -0.478286  ┆ -0.194006  │\n",
       "│ …          ┆ …          ┆ …          ┆ …          ┆ …          ┆ …          ┆ …          ┆ …          │\n",
       "│ 0.179691   ┆ 0.017425   ┆ -0.256541  ┆ 0.55113    ┆ 0.554639   ┆ 0.154368   ┆ -0.478286  ┆ -0.194006  │\n",
       "│ 0.179691   ┆ 0.017425   ┆ -0.256541  ┆ 0.55113    ┆ 0.554639   ┆ 0.154368   ┆ -0.478286  ┆ -0.194006  │\n",
       "│ 0.179691   ┆ 0.017425   ┆ -0.256541  ┆ 0.55113    ┆ 0.554639   ┆ 0.154368   ┆ -0.478286  ┆ -0.194006  │\n",
       "│ 0.179691   ┆ 0.017425   ┆ -0.256541  ┆ 0.55113    ┆ 0.554639   ┆ 0.154368   ┆ -0.478286  ┆ -0.194006  │\n",
       "└────────────┴────────────┴────────────┴────────────┴────────────┴────────────┴────────────┴────────────┘"
      ]
     },
     "execution_count": 26,
     "metadata": {},
     "output_type": "execute_result"
    }
   ],
   "source": [
    "embedding = train.filter(pl.col(\"level_group\")==\"0-4\").groupby(\"session_id\").agg(\n",
    "    pl.col(target_col).tail(10).apply(\n",
    "        lambda x: wv.get_mean_vector(empty_to_list(x.to_list()))\n",
    "    ).alias(\"embedding\")\n",
    ")[\"embedding\"].to_list()\n",
    "\n",
    "pl.DataFrame(embedding, schema=[f\"{target_col}_embedding_{i}\" for i in range(wv.vector_size)])"
   ]
  },
  {
   "cell_type": "code",
   "execution_count": 27,
   "metadata": {},
   "outputs": [
    {
     "data": {
      "text/html": [
       "<div><style>\n",
       ".dataframe > thead > tr > th,\n",
       ".dataframe > tbody > tr > td {\n",
       "  text-align: right;\n",
       "}\n",
       "</style>\n",
       "<small>shape: (23562, 8)</small><table border=\"1\" class=\"dataframe\"><thead><tr><th>text_embedding_0</th><th>text_embedding_1</th><th>text_embedding_2</th><th>text_embedding_3</th><th>text_embedding_4</th><th>text_embedding_5</th><th>text_embedding_6</th><th>text_embedding_7</th></tr><tr><td>f64</td><td>f64</td><td>f64</td><td>f64</td><td>f64</td><td>f64</td><td>f64</td><td>f64</td></tr></thead><tbody><tr><td>0.179691</td><td>0.017425</td><td>-0.256541</td><td>0.55113</td><td>0.554639</td><td>0.154368</td><td>-0.478286</td><td>-0.194006</td></tr><tr><td>0.179691</td><td>0.017425</td><td>-0.256541</td><td>0.55113</td><td>0.554639</td><td>0.154368</td><td>-0.478286</td><td>-0.194006</td></tr><tr><td>0.179691</td><td>0.017425</td><td>-0.256541</td><td>0.55113</td><td>0.554639</td><td>0.154368</td><td>-0.478286</td><td>-0.194006</td></tr><tr><td>0.179691</td><td>0.017425</td><td>-0.256541</td><td>0.55113</td><td>0.554639</td><td>0.154368</td><td>-0.478286</td><td>-0.194006</td></tr><tr><td>0.179691</td><td>0.017425</td><td>-0.256541</td><td>0.55113</td><td>0.554639</td><td>0.154368</td><td>-0.478286</td><td>-0.194006</td></tr><tr><td>0.179691</td><td>0.017425</td><td>-0.256541</td><td>0.55113</td><td>0.554639</td><td>0.154368</td><td>-0.478286</td><td>-0.194006</td></tr><tr><td>0.179691</td><td>0.017425</td><td>-0.256541</td><td>0.55113</td><td>0.554639</td><td>0.154368</td><td>-0.478286</td><td>-0.194006</td></tr><tr><td>0.179691</td><td>0.017425</td><td>-0.256541</td><td>0.55113</td><td>0.554639</td><td>0.154368</td><td>-0.478286</td><td>-0.194006</td></tr><tr><td>0.179691</td><td>0.017425</td><td>-0.256541</td><td>0.55113</td><td>0.554639</td><td>0.154368</td><td>-0.478286</td><td>-0.194006</td></tr><tr><td>0.179691</td><td>0.017425</td><td>-0.256541</td><td>0.55113</td><td>0.554639</td><td>0.154368</td><td>-0.478286</td><td>-0.194006</td></tr><tr><td>0.179691</td><td>0.017425</td><td>-0.256541</td><td>0.55113</td><td>0.554639</td><td>0.154368</td><td>-0.478286</td><td>-0.194006</td></tr><tr><td>0.181459</td><td>0.035466</td><td>-0.299143</td><td>0.517854</td><td>0.550888</td><td>0.148984</td><td>-0.437802</td><td>-0.139192</td></tr><tr><td>&hellip;</td><td>&hellip;</td><td>&hellip;</td><td>&hellip;</td><td>&hellip;</td><td>&hellip;</td><td>&hellip;</td><td>&hellip;</td></tr><tr><td>0.179691</td><td>0.017425</td><td>-0.256541</td><td>0.55113</td><td>0.554639</td><td>0.154368</td><td>-0.478286</td><td>-0.194006</td></tr><tr><td>0.179691</td><td>0.017425</td><td>-0.256541</td><td>0.55113</td><td>0.554639</td><td>0.154368</td><td>-0.478286</td><td>-0.194006</td></tr><tr><td>0.179691</td><td>0.017425</td><td>-0.256541</td><td>0.55113</td><td>0.554639</td><td>0.154368</td><td>-0.478286</td><td>-0.194006</td></tr><tr><td>0.179691</td><td>0.017425</td><td>-0.256541</td><td>0.55113</td><td>0.554639</td><td>0.154368</td><td>-0.478286</td><td>-0.194006</td></tr><tr><td>0.179691</td><td>0.017425</td><td>-0.256541</td><td>0.55113</td><td>0.554639</td><td>0.154368</td><td>-0.478286</td><td>-0.194006</td></tr><tr><td>0.179691</td><td>0.017425</td><td>-0.256541</td><td>0.55113</td><td>0.554639</td><td>0.154368</td><td>-0.478286</td><td>-0.194006</td></tr><tr><td>0.179691</td><td>0.017425</td><td>-0.256541</td><td>0.55113</td><td>0.554639</td><td>0.154368</td><td>-0.478286</td><td>-0.194006</td></tr><tr><td>0.179691</td><td>0.017425</td><td>-0.256541</td><td>0.55113</td><td>0.554639</td><td>0.154368</td><td>-0.478286</td><td>-0.194006</td></tr><tr><td>0.179691</td><td>0.017425</td><td>-0.256541</td><td>0.55113</td><td>0.554639</td><td>0.154368</td><td>-0.478286</td><td>-0.194006</td></tr><tr><td>0.179691</td><td>0.017425</td><td>-0.256541</td><td>0.55113</td><td>0.554639</td><td>0.154368</td><td>-0.478286</td><td>-0.194006</td></tr><tr><td>0.179691</td><td>0.017425</td><td>-0.256541</td><td>0.55113</td><td>0.554639</td><td>0.154368</td><td>-0.478286</td><td>-0.194006</td></tr><tr><td>0.179691</td><td>0.017425</td><td>-0.256541</td><td>0.55113</td><td>0.554639</td><td>0.154368</td><td>-0.478286</td><td>-0.194006</td></tr></tbody></table></div>"
      ],
      "text/plain": [
       "shape: (23_562, 8)\n",
       "┌────────────┬────────────┬────────────┬────────────┬────────────┬────────────┬────────────┬────────────┐\n",
       "│ text_embed ┆ text_embed ┆ text_embed ┆ text_embed ┆ text_embed ┆ text_embed ┆ text_embed ┆ text_embed │\n",
       "│ ding_0     ┆ ding_1     ┆ ding_2     ┆ ding_3     ┆ ding_4     ┆ ding_5     ┆ ding_6     ┆ ding_7     │\n",
       "│ ---        ┆ ---        ┆ ---        ┆ ---        ┆ ---        ┆ ---        ┆ ---        ┆ ---        │\n",
       "│ f64        ┆ f64        ┆ f64        ┆ f64        ┆ f64        ┆ f64        ┆ f64        ┆ f64        │\n",
       "╞════════════╪════════════╪════════════╪════════════╪════════════╪════════════╪════════════╪════════════╡\n",
       "│ 0.179691   ┆ 0.017425   ┆ -0.256541  ┆ 0.55113    ┆ 0.554639   ┆ 0.154368   ┆ -0.478286  ┆ -0.194006  │\n",
       "│ 0.179691   ┆ 0.017425   ┆ -0.256541  ┆ 0.55113    ┆ 0.554639   ┆ 0.154368   ┆ -0.478286  ┆ -0.194006  │\n",
       "│ 0.179691   ┆ 0.017425   ┆ -0.256541  ┆ 0.55113    ┆ 0.554639   ┆ 0.154368   ┆ -0.478286  ┆ -0.194006  │\n",
       "│ 0.179691   ┆ 0.017425   ┆ -0.256541  ┆ 0.55113    ┆ 0.554639   ┆ 0.154368   ┆ -0.478286  ┆ -0.194006  │\n",
       "│ …          ┆ …          ┆ …          ┆ …          ┆ …          ┆ …          ┆ …          ┆ …          │\n",
       "│ 0.179691   ┆ 0.017425   ┆ -0.256541  ┆ 0.55113    ┆ 0.554639   ┆ 0.154368   ┆ -0.478286  ┆ -0.194006  │\n",
       "│ 0.179691   ┆ 0.017425   ┆ -0.256541  ┆ 0.55113    ┆ 0.554639   ┆ 0.154368   ┆ -0.478286  ┆ -0.194006  │\n",
       "│ 0.179691   ┆ 0.017425   ┆ -0.256541  ┆ 0.55113    ┆ 0.554639   ┆ 0.154368   ┆ -0.478286  ┆ -0.194006  │\n",
       "│ 0.179691   ┆ 0.017425   ┆ -0.256541  ┆ 0.55113    ┆ 0.554639   ┆ 0.154368   ┆ -0.478286  ┆ -0.194006  │\n",
       "└────────────┴────────────┴────────────┴────────────┴────────────┴────────────┴────────────┴────────────┘"
      ]
     },
     "execution_count": 27,
     "metadata": {},
     "output_type": "execute_result"
    }
   ],
   "source": [
    "num_tail = 50\n",
    "weights = [float(i / num_tail) for i in range(1, num_tail + 1)]\n",
    "\n",
    "train.filter(pl.col(\"level_group\")==\"0-4\").groupby(\"session_id\").agg(\n",
    "    pl.col(target_col).tail(num_tail).apply(\n",
    "        lambda x: wv.get_mean_vector(empty_to_list(x.to_list()), weights)\n",
    "    ).alias(\"embedding\")\n",
    ")[\"embedding\"].to_list()\n",
    "\n",
    "pl.DataFrame(embedding, schema=[f\"{target_col}_embedding_{i}\" for i in range(wv.vector_size)])"
   ]
  },
  {
   "cell_type": "code",
   "execution_count": 28,
   "metadata": {},
   "outputs": [],
   "source": [
    "df = pl.DataFrame(embedding, schema=[f\"{target_col}_embedding_{i}\" for i in range(wv.vector_size)])"
   ]
  },
  {
   "cell_type": "code",
   "execution_count": 33,
   "metadata": {},
   "outputs": [
    {
     "data": {
      "text/plain": [
       " 0.179691    22051\n",
       " 0.181459      598\n",
       " 0.127148      348\n",
       " 0.183757      305\n",
       " 0.074605       55\n",
       "             ...  \n",
       "-0.249423        1\n",
       " 0.001743        1\n",
       " 0.008740        1\n",
       " 0.300243        1\n",
       "-0.196012        1\n",
       "Name: text_embedding_0, Length: 146, dtype: int64"
      ]
     },
     "execution_count": 33,
     "metadata": {},
     "output_type": "execute_result"
    }
   ],
   "source": [
    "df[\"text_embedding_0\"].to_pandas().value_counts()"
   ]
  }
 ],
 "metadata": {
  "kernelspec": {
   "display_name": "base",
   "language": "python",
   "name": "python3"
  },
  "language_info": {
   "codemirror_mode": {
    "name": "ipython",
    "version": 3
   },
   "file_extension": ".py",
   "mimetype": "text/x-python",
   "name": "python",
   "nbconvert_exporter": "python",
   "pygments_lexer": "ipython3",
   "version": "3.10.10"
  },
  "orig_nbformat": 4
 },
 "nbformat": 4,
 "nbformat_minor": 2
}

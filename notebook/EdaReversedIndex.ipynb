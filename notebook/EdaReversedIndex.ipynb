{
 "cells": [
  {
   "cell_type": "code",
   "execution_count": 1,
   "metadata": {},
   "outputs": [],
   "source": [
    "import sys\n",
    "\n",
    "sys.path.append(\"../src/\")\n",
    "\n",
    "import pathlib\n",
    "from collections import defaultdict\n",
    "from typing import Tuple\n",
    "\n",
    "import hydra\n",
    "import numpy as np\n",
    "import polars as pl\n",
    "import pandas as pd\n",
    "from omegaconf import DictConfig, OmegaConf\n",
    "from sklearn.linear_model import Ridge\n",
    "from sklearn.metrics import f1_score\n",
    "from rich.progress import track\n",
    "\n",
    "from metric import f1_score_with_threshold\n",
    "from utils import timer\n",
    "from utils.io import load_pickle, save_pickle, save_txt"
   ]
  },
  {
   "cell_type": "code",
   "execution_count": 2,
   "metadata": {},
   "outputs": [],
   "source": [
    "train = pl.read_csv(\"../data/raw/train.csv\")"
   ]
  },
  {
   "cell_type": "code",
   "execution_count": 3,
   "metadata": {},
   "outputs": [
    {
     "data": {
      "text/html": [
       "<div><style>\n",
       ".dataframe > thead > tr > th,\n",
       ".dataframe > tbody > tr > td {\n",
       "  text-align: right;\n",
       "}\n",
       "</style>\n",
       "<small>shape: (5, 20)</small><table border=\"1\" class=\"dataframe\"><thead><tr><th>session_id</th><th>index</th><th>elapsed_time</th><th>event_name</th><th>name</th><th>level</th><th>page</th><th>room_coor_x</th><th>room_coor_y</th><th>screen_coor_x</th><th>screen_coor_y</th><th>hover_duration</th><th>text</th><th>fqid</th><th>room_fqid</th><th>text_fqid</th><th>fullscreen</th><th>hq</th><th>music</th><th>level_group</th></tr><tr><td>i64</td><td>i64</td><td>i64</td><td>str</td><td>str</td><td>i64</td><td>str</td><td>f64</td><td>f64</td><td>f64</td><td>f64</td><td>f64</td><td>str</td><td>str</td><td>str</td><td>str</td><td>i64</td><td>i64</td><td>i64</td><td>str</td></tr></thead><tbody><tr><td>20090312431273200</td><td>0</td><td>0</td><td>&quot;cutscene_click…</td><td>&quot;basic&quot;</td><td>0</td><td>null</td><td>-413.991405</td><td>-159.314686</td><td>380.0</td><td>494.0</td><td>null</td><td>&quot;undefined&quot;</td><td>&quot;intro&quot;</td><td>&quot;tunic.historic…</td><td>&quot;tunic.historic…</td><td>0</td><td>0</td><td>1</td><td>&quot;0-4&quot;</td></tr><tr><td>20090312431273200</td><td>1</td><td>1323</td><td>&quot;person_click&quot;</td><td>&quot;basic&quot;</td><td>0</td><td>null</td><td>-413.991405</td><td>-159.314686</td><td>380.0</td><td>494.0</td><td>null</td><td>&quot;Whatcha doing …</td><td>&quot;gramps&quot;</td><td>&quot;tunic.historic…</td><td>&quot;tunic.historic…</td><td>0</td><td>0</td><td>1</td><td>&quot;0-4&quot;</td></tr><tr><td>20090312431273200</td><td>2</td><td>831</td><td>&quot;person_click&quot;</td><td>&quot;basic&quot;</td><td>0</td><td>null</td><td>-413.991405</td><td>-159.314686</td><td>380.0</td><td>494.0</td><td>null</td><td>&quot;Just talking t…</td><td>&quot;gramps&quot;</td><td>&quot;tunic.historic…</td><td>&quot;tunic.historic…</td><td>0</td><td>0</td><td>1</td><td>&quot;0-4&quot;</td></tr><tr><td>20090312431273200</td><td>3</td><td>1147</td><td>&quot;person_click&quot;</td><td>&quot;basic&quot;</td><td>0</td><td>null</td><td>-413.991405</td><td>-159.314686</td><td>380.0</td><td>494.0</td><td>null</td><td>&quot;I gotta run to…</td><td>&quot;gramps&quot;</td><td>&quot;tunic.historic…</td><td>&quot;tunic.historic…</td><td>0</td><td>0</td><td>1</td><td>&quot;0-4&quot;</td></tr><tr><td>20090312431273200</td><td>4</td><td>1863</td><td>&quot;person_click&quot;</td><td>&quot;basic&quot;</td><td>0</td><td>null</td><td>-412.991405</td><td>-159.314686</td><td>381.0</td><td>494.0</td><td>null</td><td>&quot;Can I come, Gr…</td><td>&quot;gramps&quot;</td><td>&quot;tunic.historic…</td><td>&quot;tunic.historic…</td><td>0</td><td>0</td><td>1</td><td>&quot;0-4&quot;</td></tr></tbody></table></div>"
      ],
      "text/plain": [
       "shape: (5, 20)\n",
       "┌───────────────┬───────┬──────────────┬──────────────┬───┬────────────┬─────┬───────┬─────────────┐\n",
       "│ session_id    ┆ index ┆ elapsed_time ┆ event_name   ┆ … ┆ fullscreen ┆ hq  ┆ music ┆ level_group │\n",
       "│ ---           ┆ ---   ┆ ---          ┆ ---          ┆   ┆ ---        ┆ --- ┆ ---   ┆ ---         │\n",
       "│ i64           ┆ i64   ┆ i64          ┆ str          ┆   ┆ i64        ┆ i64 ┆ i64   ┆ str         │\n",
       "╞═══════════════╪═══════╪══════════════╪══════════════╪═══╪════════════╪═════╪═══════╪═════════════╡\n",
       "│ 2009031243127 ┆ 0     ┆ 0            ┆ cutscene_cli ┆ … ┆ 0          ┆ 0   ┆ 1     ┆ 0-4         │\n",
       "│ 3200          ┆       ┆              ┆ ck           ┆   ┆            ┆     ┆       ┆             │\n",
       "│ 2009031243127 ┆ 1     ┆ 1323         ┆ person_click ┆ … ┆ 0          ┆ 0   ┆ 1     ┆ 0-4         │\n",
       "│ 3200          ┆       ┆              ┆              ┆   ┆            ┆     ┆       ┆             │\n",
       "│ 2009031243127 ┆ 2     ┆ 831          ┆ person_click ┆ … ┆ 0          ┆ 0   ┆ 1     ┆ 0-4         │\n",
       "│ 3200          ┆       ┆              ┆              ┆   ┆            ┆     ┆       ┆             │\n",
       "│ 2009031243127 ┆ 3     ┆ 1147         ┆ person_click ┆ … ┆ 0          ┆ 0   ┆ 1     ┆ 0-4         │\n",
       "│ 3200          ┆       ┆              ┆              ┆   ┆            ┆     ┆       ┆             │\n",
       "│ 2009031243127 ┆ 4     ┆ 1863         ┆ person_click ┆ … ┆ 0          ┆ 0   ┆ 1     ┆ 0-4         │\n",
       "│ 3200          ┆       ┆              ┆              ┆   ┆            ┆     ┆       ┆             │\n",
       "└───────────────┴───────┴──────────────┴──────────────┴───┴────────────┴─────┴───────┴─────────────┘"
      ]
     },
     "execution_count": 3,
     "metadata": {},
     "output_type": "execute_result"
    }
   ],
   "source": [
    "train.head()"
   ]
  },
  {
   "cell_type": "code",
   "execution_count": 5,
   "metadata": {},
   "outputs": [
    {
     "data": {
      "text/html": [
       "<div><style>\n",
       ".dataframe > thead > tr > th,\n",
       ".dataframe > tbody > tr > td {\n",
       "  text-align: right;\n",
       "}\n",
       "</style>\n",
       "<small>shape: (2, 2)</small><table border=\"1\" class=\"dataframe\"><thead><tr><th>is_reversed</th><th>counts</th></tr><tr><td>str</td><td>u32</td></tr></thead><tbody><tr><td>&quot;not_reversed&quot;</td><td>26273020</td></tr><tr><td>&quot;reversed&quot;</td><td>23926</td></tr></tbody></table></div>"
      ],
      "text/plain": [
       "shape: (2, 2)\n",
       "┌──────────────┬──────────┐\n",
       "│ is_reversed  ┆ counts   │\n",
       "│ ---          ┆ ---      │\n",
       "│ str          ┆ u32      │\n",
       "╞══════════════╪══════════╡\n",
       "│ not_reversed ┆ 26273020 │\n",
       "│ reversed     ┆ 23926    │\n",
       "└──────────────┴──────────┘"
      ]
     },
     "execution_count": 5,
     "metadata": {},
     "output_type": "execute_result"
    }
   ],
   "source": [
    "train = train.with_columns(\n",
    "    pl.when(pl.col(\"level\").diff(n=1) < 0).then(\"reversed\").otherwise(\"not_reversed\").alias(\"is_reversed\")\n",
    ")\n",
    "\n",
    "\n",
    "train[\"is_reversed\"].value_counts()"
   ]
  },
  {
   "cell_type": "code",
   "execution_count": null,
   "metadata": {},
   "outputs": [],
   "source": [
    "\n"
   ]
  }
 ],
 "metadata": {
  "kernelspec": {
   "display_name": "base",
   "language": "python",
   "name": "python3"
  },
  "language_info": {
   "codemirror_mode": {
    "name": "ipython",
    "version": 3
   },
   "file_extension": ".py",
   "mimetype": "text/x-python",
   "name": "python",
   "nbconvert_exporter": "python",
   "pygments_lexer": "ipython3",
   "version": "3.10.10"
  },
  "orig_nbformat": 4
 },
 "nbformat": 4,
 "nbformat_minor": 2
}
